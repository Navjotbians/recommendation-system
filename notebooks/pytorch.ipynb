{
 "cells": [
  {
   "cell_type": "code",
   "execution_count": 148,
   "metadata": {},
   "outputs": [],
   "source": [
    "import torch\n",
    "import torch.nn as nn\n",
    "import torch.nn.functional as F\n",
    "import pandas as pd\n",
    "import numpy as np\n",
    "import matplotlib.pyplot as plt\n",
    "import os\n",
    "dir_path = os.path.dirname(os.getcwd())"
   ]
  },
  {
   "cell_type": "code",
   "execution_count": 4,
   "metadata": {},
   "outputs": [],
   "source": [
    "products = pd.read_csv(os.path.join(dir_path, 'data', 'raw', 'product.csv'))"
   ]
  },
  {
   "cell_type": "code",
   "execution_count": 5,
   "metadata": {},
   "outputs": [
    {
     "data": {
      "text/html": [
       "<div>\n",
       "<style scoped>\n",
       "    .dataframe tbody tr th:only-of-type {\n",
       "        vertical-align: middle;\n",
       "    }\n",
       "\n",
       "    .dataframe tbody tr th {\n",
       "        vertical-align: top;\n",
       "    }\n",
       "\n",
       "    .dataframe thead th {\n",
       "        text-align: right;\n",
       "    }\n",
       "</style>\n",
       "<table border=\"1\" class=\"dataframe\">\n",
       "  <thead>\n",
       "    <tr style=\"text-align: right;\">\n",
       "      <th></th>\n",
       "      <th>id</th>\n",
       "      <th>visitorId</th>\n",
       "      <th>itemId</th>\n",
       "      <th>normalized_session_duration</th>\n",
       "    </tr>\n",
       "  </thead>\n",
       "  <tbody>\n",
       "    <tr>\n",
       "      <th>0</th>\n",
       "      <td>0</td>\n",
       "      <td>50743654948546081-2</td>\n",
       "      <td>GGOEGAAX0031</td>\n",
       "      <td>0.120099</td>\n",
       "    </tr>\n",
       "    <tr>\n",
       "      <th>1</th>\n",
       "      <td>1</td>\n",
       "      <td>5342238128015433624-1</td>\n",
       "      <td>GGOEGAAX0031</td>\n",
       "      <td>0.122196</td>\n",
       "    </tr>\n",
       "    <tr>\n",
       "      <th>2</th>\n",
       "      <td>2</td>\n",
       "      <td>966739175376367480-2</td>\n",
       "      <td>GGOEGAAX0031</td>\n",
       "      <td>0.428319</td>\n",
       "    </tr>\n",
       "    <tr>\n",
       "      <th>3</th>\n",
       "      <td>3</td>\n",
       "      <td>8321419770612068321-1</td>\n",
       "      <td>GGOEGAAX0031</td>\n",
       "      <td>0.000883</td>\n",
       "    </tr>\n",
       "    <tr>\n",
       "      <th>4</th>\n",
       "      <td>4</td>\n",
       "      <td>4132865605127470100-1</td>\n",
       "      <td>GGOEGAAX0031</td>\n",
       "      <td>0.526131</td>\n",
       "    </tr>\n",
       "  </tbody>\n",
       "</table>\n",
       "</div>"
      ],
      "text/plain": [
       "   id              visitorId        itemId  normalized_session_duration\n",
       "0   0    50743654948546081-2  GGOEGAAX0031                     0.120099\n",
       "1   1  5342238128015433624-1  GGOEGAAX0031                     0.122196\n",
       "2   2   966739175376367480-2  GGOEGAAX0031                     0.428319\n",
       "3   3  8321419770612068321-1  GGOEGAAX0031                     0.000883\n",
       "4   4  4132865605127470100-1  GGOEGAAX0031                     0.526131"
      ]
     },
     "execution_count": 5,
     "metadata": {},
     "output_type": "execute_result"
    }
   ],
   "source": [
    "df = pd.read_csv(os.path.join(dir_path, 'data', 'normalized_data.csv'))\n",
    "df.head()"
   ]
  },
  {
   "cell_type": "markdown",
   "metadata": {},
   "source": [
    "# Split train and validation"
   ]
  },
  {
   "cell_type": "code",
   "execution_count": 65,
   "metadata": {},
   "outputs": [],
   "source": [
    "# from sklearn.model_selection import train_test_split"
   ]
  },
  {
   "cell_type": "code",
   "execution_count": 66,
   "metadata": {},
   "outputs": [],
   "source": [
    "# train, val = train_test_split(df , train_size=0.75,random_state=42)"
   ]
  },
  {
   "cell_type": "code",
   "execution_count": 68,
   "metadata": {},
   "outputs": [],
   "source": [
    "# split train and validation before encoding\n",
    "np.random.seed(3)\n",
    "msk = np.random.rand(len(df)) < 0.8\n",
    "train = df[msk].copy()\n",
    "val = df[~msk].copy()"
   ]
  },
  {
   "cell_type": "code",
   "execution_count": 69,
   "metadata": {},
   "outputs": [
    {
     "data": {
      "text/plain": [
       "(109803, 4)"
      ]
     },
     "execution_count": 69,
     "metadata": {},
     "output_type": "execute_result"
    }
   ],
   "source": [
    "train.shape"
   ]
  },
  {
   "cell_type": "code",
   "execution_count": 70,
   "metadata": {},
   "outputs": [
    {
     "data": {
      "text/plain": [
       "(27711, 4)"
      ]
     },
     "execution_count": 70,
     "metadata": {},
     "output_type": "execute_result"
    }
   ],
   "source": [
    "val.shape"
   ]
  },
  {
   "cell_type": "markdown",
   "metadata": {},
   "source": [
    "Assigning continous index Id's to visitor Id's and item Id's in training set, then mapping these index Id's to the visitor Id's and item id's in Valdation dataset. Also removing the visitor Id; which are not present in the training set"
   ]
  },
  {
   "cell_type": "code",
   "execution_count": 71,
   "metadata": {},
   "outputs": [],
   "source": [
    "# Encodes a pandas column with continous ids.\n",
    "def proc_col(col, train_col=None):\n",
    "    if train_col is not None:\n",
    "        uniq = train_col.unique()\n",
    "    else:\n",
    "        uniq = col.unique()\n",
    "    name2idx = {o:i for i,o in enumerate(uniq)}\n",
    "    return name2idx, np.array([name2idx.get(x, -1) for x in col]), len(uniq)"
   ]
  },
  {
   "cell_type": "code",
   "execution_count": 72,
   "metadata": {},
   "outputs": [],
   "source": [
    "# Encodes rating data with continous user and movie ids. \n",
    "# If train is provided, encodes df with the same encoding as train.\n",
    "\n",
    "def encode_data(df, train=None):\n",
    "    df = df.copy()\n",
    "    for col_name in [\"visitorId\", \"itemId\"]:\n",
    "        train_col = None\n",
    "        if train is not None:\n",
    "            train_col = train[col_name]\n",
    "        _,col,_ = proc_col(df[col_name], train_col)\n",
    "        df[col_name] = col\n",
    "        df = df[df[col_name] >= 0]\n",
    "    return df"
   ]
  },
  {
   "cell_type": "code",
   "execution_count": 73,
   "metadata": {},
   "outputs": [],
   "source": [
    "# encoding the train and validation data\n",
    "df_train = encode_data(train)\n",
    "df_val = encode_data(val, train)"
   ]
  },
  {
   "cell_type": "code",
   "execution_count": 74,
   "metadata": {},
   "outputs": [
    {
     "data": {
      "text/html": [
       "<div>\n",
       "<style scoped>\n",
       "    .dataframe tbody tr th:only-of-type {\n",
       "        vertical-align: middle;\n",
       "    }\n",
       "\n",
       "    .dataframe tbody tr th {\n",
       "        vertical-align: top;\n",
       "    }\n",
       "\n",
       "    .dataframe thead th {\n",
       "        text-align: right;\n",
       "    }\n",
       "</style>\n",
       "<table border=\"1\" class=\"dataframe\">\n",
       "  <thead>\n",
       "    <tr style=\"text-align: right;\">\n",
       "      <th></th>\n",
       "      <th>id</th>\n",
       "      <th>visitorId</th>\n",
       "      <th>itemId</th>\n",
       "      <th>normalized_session_duration</th>\n",
       "    </tr>\n",
       "  </thead>\n",
       "  <tbody>\n",
       "    <tr>\n",
       "      <th>0</th>\n",
       "      <td>0</td>\n",
       "      <td>0</td>\n",
       "      <td>0</td>\n",
       "      <td>0.120099</td>\n",
       "    </tr>\n",
       "    <tr>\n",
       "      <th>1</th>\n",
       "      <td>1</td>\n",
       "      <td>1</td>\n",
       "      <td>0</td>\n",
       "      <td>0.122196</td>\n",
       "    </tr>\n",
       "    <tr>\n",
       "      <th>2</th>\n",
       "      <td>2</td>\n",
       "      <td>2</td>\n",
       "      <td>0</td>\n",
       "      <td>0.428319</td>\n",
       "    </tr>\n",
       "    <tr>\n",
       "      <th>3</th>\n",
       "      <td>3</td>\n",
       "      <td>3</td>\n",
       "      <td>0</td>\n",
       "      <td>0.000883</td>\n",
       "    </tr>\n",
       "    <tr>\n",
       "      <th>6</th>\n",
       "      <td>6</td>\n",
       "      <td>4</td>\n",
       "      <td>0</td>\n",
       "      <td>0.105259</td>\n",
       "    </tr>\n",
       "    <tr>\n",
       "      <th>...</th>\n",
       "      <td>...</td>\n",
       "      <td>...</td>\n",
       "      <td>...</td>\n",
       "      <td>...</td>\n",
       "    </tr>\n",
       "    <tr>\n",
       "      <th>137507</th>\n",
       "      <td>137507</td>\n",
       "      <td>32699</td>\n",
       "      <td>368</td>\n",
       "      <td>0.000110</td>\n",
       "    </tr>\n",
       "    <tr>\n",
       "      <th>137508</th>\n",
       "      <td>137508</td>\n",
       "      <td>51720</td>\n",
       "      <td>368</td>\n",
       "      <td>0.000110</td>\n",
       "    </tr>\n",
       "    <tr>\n",
       "      <th>137510</th>\n",
       "      <td>137510</td>\n",
       "      <td>51721</td>\n",
       "      <td>368</td>\n",
       "      <td>0.000110</td>\n",
       "    </tr>\n",
       "    <tr>\n",
       "      <th>137512</th>\n",
       "      <td>137512</td>\n",
       "      <td>51722</td>\n",
       "      <td>368</td>\n",
       "      <td>0.000110</td>\n",
       "    </tr>\n",
       "    <tr>\n",
       "      <th>137513</th>\n",
       "      <td>137513</td>\n",
       "      <td>51723</td>\n",
       "      <td>368</td>\n",
       "      <td>0.000110</td>\n",
       "    </tr>\n",
       "  </tbody>\n",
       "</table>\n",
       "<p>109803 rows × 4 columns</p>\n",
       "</div>"
      ],
      "text/plain": [
       "            id  visitorId  itemId  normalized_session_duration\n",
       "0            0          0       0                     0.120099\n",
       "1            1          1       0                     0.122196\n",
       "2            2          2       0                     0.428319\n",
       "3            3          3       0                     0.000883\n",
       "6            6          4       0                     0.105259\n",
       "...        ...        ...     ...                          ...\n",
       "137507  137507      32699     368                     0.000110\n",
       "137508  137508      51720     368                     0.000110\n",
       "137510  137510      51721     368                     0.000110\n",
       "137512  137512      51722     368                     0.000110\n",
       "137513  137513      51723     368                     0.000110\n",
       "\n",
       "[109803 rows x 4 columns]"
      ]
     },
     "execution_count": 74,
     "metadata": {},
     "output_type": "execute_result"
    }
   ],
   "source": [
    "df_train"
   ]
  },
  {
   "cell_type": "code",
   "execution_count": 75,
   "metadata": {},
   "outputs": [
    {
     "data": {
      "text/html": [
       "<div>\n",
       "<style scoped>\n",
       "    .dataframe tbody tr th:only-of-type {\n",
       "        vertical-align: middle;\n",
       "    }\n",
       "\n",
       "    .dataframe tbody tr th {\n",
       "        vertical-align: top;\n",
       "    }\n",
       "\n",
       "    .dataframe thead th {\n",
       "        text-align: right;\n",
       "    }\n",
       "</style>\n",
       "<table border=\"1\" class=\"dataframe\">\n",
       "  <thead>\n",
       "    <tr style=\"text-align: right;\">\n",
       "      <th></th>\n",
       "      <th>id</th>\n",
       "      <th>visitorId</th>\n",
       "      <th>itemId</th>\n",
       "      <th>normalized_session_duration</th>\n",
       "    </tr>\n",
       "  </thead>\n",
       "  <tbody>\n",
       "    <tr>\n",
       "      <th>4</th>\n",
       "      <td>4</td>\n",
       "      <td>959</td>\n",
       "      <td>0</td>\n",
       "      <td>0.526131</td>\n",
       "    </tr>\n",
       "    <tr>\n",
       "      <th>5</th>\n",
       "      <td>5</td>\n",
       "      <td>21468</td>\n",
       "      <td>0</td>\n",
       "      <td>0.271865</td>\n",
       "    </tr>\n",
       "    <tr>\n",
       "      <th>29</th>\n",
       "      <td>29</td>\n",
       "      <td>2415</td>\n",
       "      <td>0</td>\n",
       "      <td>0.644244</td>\n",
       "    </tr>\n",
       "    <tr>\n",
       "      <th>30</th>\n",
       "      <td>30</td>\n",
       "      <td>1214</td>\n",
       "      <td>0</td>\n",
       "      <td>0.532586</td>\n",
       "    </tr>\n",
       "    <tr>\n",
       "      <th>33</th>\n",
       "      <td>33</td>\n",
       "      <td>23544</td>\n",
       "      <td>0</td>\n",
       "      <td>0.116624</td>\n",
       "    </tr>\n",
       "    <tr>\n",
       "      <th>...</th>\n",
       "      <td>...</td>\n",
       "      <td>...</td>\n",
       "      <td>...</td>\n",
       "      <td>...</td>\n",
       "    </tr>\n",
       "    <tr>\n",
       "      <th>137432</th>\n",
       "      <td>137432</td>\n",
       "      <td>48324</td>\n",
       "      <td>347</td>\n",
       "      <td>0.000110</td>\n",
       "    </tr>\n",
       "    <tr>\n",
       "      <th>137461</th>\n",
       "      <td>137461</td>\n",
       "      <td>11381</td>\n",
       "      <td>358</td>\n",
       "      <td>0.000110</td>\n",
       "    </tr>\n",
       "    <tr>\n",
       "      <th>137475</th>\n",
       "      <td>137475</td>\n",
       "      <td>18295</td>\n",
       "      <td>360</td>\n",
       "      <td>0.000110</td>\n",
       "    </tr>\n",
       "    <tr>\n",
       "      <th>137493</th>\n",
       "      <td>137493</td>\n",
       "      <td>20942</td>\n",
       "      <td>362</td>\n",
       "      <td>0.000110</td>\n",
       "    </tr>\n",
       "    <tr>\n",
       "      <th>137509</th>\n",
       "      <td>137509</td>\n",
       "      <td>9094</td>\n",
       "      <td>368</td>\n",
       "      <td>0.000110</td>\n",
       "    </tr>\n",
       "  </tbody>\n",
       "</table>\n",
       "<p>20313 rows × 4 columns</p>\n",
       "</div>"
      ],
      "text/plain": [
       "            id  visitorId  itemId  normalized_session_duration\n",
       "4            4        959       0                     0.526131\n",
       "5            5      21468       0                     0.271865\n",
       "29          29       2415       0                     0.644244\n",
       "30          30       1214       0                     0.532586\n",
       "33          33      23544       0                     0.116624\n",
       "...        ...        ...     ...                          ...\n",
       "137432  137432      48324     347                     0.000110\n",
       "137461  137461      11381     358                     0.000110\n",
       "137475  137475      18295     360                     0.000110\n",
       "137493  137493      20942     362                     0.000110\n",
       "137509  137509       9094     368                     0.000110\n",
       "\n",
       "[20313 rows x 4 columns]"
      ]
     },
     "execution_count": 75,
     "metadata": {},
     "output_type": "execute_result"
    }
   ],
   "source": [
    "df_val"
   ]
  },
  {
   "cell_type": "code",
   "execution_count": 89,
   "metadata": {},
   "outputs": [
    {
     "data": {
      "text/plain": [
       "'4132865605127470100-1'"
      ]
     },
     "execution_count": 89,
     "metadata": {},
     "output_type": "execute_result"
    }
   ],
   "source": [
    "## With VisitorId get visitor name (use visitor Id from the encoded data)\n",
    "def get_userName(visitorId):\n",
    "  visitor = (df_train[df_train['visitorId'] == visitorId]['id'].values)[0]\n",
    "  customer = df[df['id'] == visitor]['visitorId'].values[0]\n",
    "  return customer\n",
    "get_userName(959)"
   ]
  },
  {
   "cell_type": "code",
   "execution_count": 113,
   "metadata": {},
   "outputs": [
    {
     "data": {
      "text/plain": [
       "\"Google Men's Short Sleeve Badge Tee Charcoal\""
      ]
     },
     "execution_count": 113,
     "metadata": {},
     "output_type": "execute_result"
    }
   ],
   "source": [
    "## With ItemID get product name (use ItemId's from encoded data)\n",
    "def get_itemName(itemId):\n",
    "  itm = df_train[df_train['itemId'] == itemId]['id'].values[0]\n",
    "  itm = df[df['id']== itm]['itemId'].values[0]\n",
    "  itemId_name = dict(zip(products['itemId'], products['itemName']))\n",
    "  return itemId_name[itm]\n",
    "get_itemName(5)"
   ]
  },
  {
   "cell_type": "code",
   "execution_count": 114,
   "metadata": {},
   "outputs": [
    {
     "name": "stdout",
     "output_type": "stream",
     "text": [
      "Parker Gunmetal CT Ball Pen\n",
      "Google Tote Bag\n",
      "Waterpoof Gear Bag\n",
      "YouTube Womens 3/4 Sleeve Baseball Raglan White/Black\n",
      "PaperMate Ink Joy Retractable Pen\n",
      "Google Women's Performance Full Zip Jacket Black\n"
     ]
    }
   ],
   "source": [
    "### Items liked by user in train and val dataset \n",
    "### (use visitor Id from the encoded data and dataframe is encoded train and validation data)\n",
    "def liked_items(visitorId, dataframe):\n",
    "  likes = dataframe[dataframe['visitorId'] == visitorId]['itemId'].values.tolist()\n",
    "  for i in likes:\n",
    "    print(get_itemName(i))\n",
    "\n",
    "liked_items(959, df_val)"
   ]
  },
  {
   "cell_type": "markdown",
   "metadata": {},
   "source": [
    "## Model"
   ]
  },
  {
   "cell_type": "code",
   "execution_count": 76,
   "metadata": {},
   "outputs": [],
   "source": [
    "visitor_count = len(df_train['visitorId'].unique())\n",
    "item_count = len(df_train['itemId'].unique())"
   ]
  },
  {
   "cell_type": "code",
   "execution_count": 126,
   "metadata": {},
   "outputs": [],
   "source": [
    "visitors =  torch.LongTensor(df_train.visitorId.values)\n",
    "items = torch.LongTensor(df_train.itemId.values)"
   ]
  },
  {
   "cell_type": "code",
   "execution_count": 127,
   "metadata": {},
   "outputs": [],
   "source": [
    "## Every nn.Module subclass implements the operations on input data in the forward method\n",
    "class MatrixMultiplication(nn.Module):      ## defining Matrix multiplication by subclassing nn.Module\n",
    "  def __init__(self, visitor_count, item_count, embed_size = 100): \n",
    "    super(MatrixMultiplication, self).__init__()     ## Initialize matrix Multiplication using __init__ \n",
    "    self.visitor_embed = nn.Embedding(visitor_count, embed_size) ## feature embedding for visitor\n",
    "    self.item_embed = nn.Embedding(item_count, embed_size)  ## feature embedding for items\n",
    "    self.visitor_embed.weight.data.uniform_(0, 0.05)\n",
    "    self.item_embed.weight.data.uniform_(0, 0.05)\n",
    "\n",
    "  def forward(self, v, i):\n",
    "    v = self.visitor_embed(v)\n",
    "    i = self.item_embed(i)\n",
    "    return (v*i).sum(1)   ### V*I gives the sparse matrix "
   ]
  },
  {
   "cell_type": "code",
   "execution_count": 144,
   "metadata": {},
   "outputs": [],
   "source": [
    "def training (model, epochs = 2, lr = 0.001, wd = 0.0, unsqueeze = False):\n",
    "  optimizer = torch.optim.Adam(model.parameters(), lr=lr, weight_decay=wd)\n",
    "  model.train()\n",
    "  train_loss = []\n",
    "  val_loss = []\n",
    "  for i in range(epochs):\n",
    "    print(\"----------Epoch {}----------\".format(i+1))\n",
    "    visitors = torch.LongTensor(df_train.visitorId.values)\n",
    "    items = torch.LongTensor(df_train.itemId.values)\n",
    "    session_duration = torch.FloatTensor(df_train.normalized_session_duration.values)\n",
    "    # print(session_duration.dtype)\n",
    "    if unsqueeze:\n",
    "      session_duration.unsqueeze(1)\n",
    "    out = model(visitors, items)\n",
    "    # print(y_hat.dtype)\n",
    "    loss = F.mse_loss(out, session_duration)\n",
    "    optimizer.zero_grad()\n",
    "    loss.backward()\n",
    "    optimizer.step()\n",
    "    train_loss.append(loss.item())\n",
    "    val_loss.append(testing(model, unsqueeze))\n",
    "    print(\"Train loss : {}\".format(loss.item()))\n",
    "    print(\"Val loss : {}\\n\".format(testing(model, unsqueeze)))\n",
    "  return train_loss, val_loss"
   ]
  },
  {
   "cell_type": "code",
   "execution_count": 145,
   "metadata": {},
   "outputs": [],
   "source": [
    "def testing(model, unsqueeze = False):\n",
    "  model.eval()\n",
    "  visitors = torch.LongTensor(df_val.visitorId.values)\n",
    "  items = torch.LongTensor(df_val.itemId.values)\n",
    "  session_duration = torch.FloatTensor(df_val.normalized_session_duration.values)\n",
    "  if unsqueeze :\n",
    "    session_duration.unsqueeze(1)\n",
    "  out = model(visitors, items)\n",
    "  loss = F.mse_loss(out , session_duration)\n",
    "#   print(\"Test loss ; {}\".format(loss.item()))\n",
    "  return loss.item()\n",
    "\n",
    "\n"
   ]
  },
  {
   "cell_type": "code",
   "execution_count": 146,
   "metadata": {},
   "outputs": [
    {
     "data": {
      "text/plain": [
       "MatrixMultiplication(\n",
       "  (visitor_embed): Embedding(51724, 100)\n",
       "  (item_embed): Embedding(372, 100)\n",
       ")"
      ]
     },
     "execution_count": 146,
     "metadata": {},
     "output_type": "execute_result"
    }
   ],
   "source": [
    "model = MatrixMultiplication(visitor_count, item_count)\n",
    "model"
   ]
  },
  {
   "cell_type": "code",
   "execution_count": 147,
   "metadata": {},
   "outputs": [
    {
     "name": "stdout",
     "output_type": "stream",
     "text": [
      "----------Epoch 1----------\n",
      "Train loss : 0.2648765742778778\n",
      "Val loss : 0.23390400409698486\n",
      "\n",
      "----------Epoch 2----------\n",
      "Train loss : 0.22531245648860931\n",
      "Val loss : 0.19591258466243744\n",
      "\n",
      "----------Epoch 3----------\n",
      "Train loss : 0.18148885667324066\n",
      "Val loss : 0.16420415043830872\n",
      "\n",
      "----------Epoch 4----------\n",
      "Train loss : 0.13987858593463898\n",
      "Val loss : 0.14599967002868652\n",
      "\n",
      "----------Epoch 5----------\n",
      "Train loss : 0.1071457713842392\n",
      "Val loss : 0.14460118114948273\n",
      "\n"
     ]
    }
   ],
   "source": [
    "train_loss, val_loss = training(model, epochs=5, lr=0.01)"
   ]
  },
  {
   "cell_type": "markdown",
   "metadata": {},
   "source": [
    "### Plot training and validation loss"
   ]
  },
  {
   "cell_type": "code",
   "execution_count": 149,
   "metadata": {},
   "outputs": [
    {
     "data": {
      "image/png": "[encoded data removed]",
      "text/plain": [
       "<Figure size 432x288 with 1 Axes>"
      ]
     },
     "metadata": {
      "needs_background": "light"
     },
     "output_type": "display_data"
    }
   ],
   "source": [
    "parameter_range = np.arange(1, 6, 1)\n",
    "plt.plot(parameter_range, train_loss, \n",
    "     label = \"Training Score\", color = 'b')\n",
    "plt.plot(parameter_range, val_loss ,\n",
    "   label = \"Validation Score\", color = 'g')\n",
    "# Creating the plot\n",
    "plt.title(\"Training and Validation Curve\")\n",
    "plt.xlabel(\"Number of Epochs\")\n",
    "plt.ylabel(\"Mean Square Error\")\n",
    "plt.tight_layout()\n",
    "plt.legend(loc = 'best')\n",
    "plt.show()"
   ]
  },
  {
   "cell_type": "code",
   "execution_count": 143,
   "metadata": {},
   "outputs": [],
   "source": [
    "m = 959\n",
    "n = 5\n",
    "a = torch.LongTensor([m]) ## visitor at index 1\n",
    "b = torch.LongTensor([n])  ## Item at index 0"
   ]
  },
  {
   "cell_type": "code",
   "execution_count": 109,
   "metadata": {},
   "outputs": [
    {
     "name": "stdout",
     "output_type": "stream",
     "text": [
      "tensor([0.4173])\n"
     ]
    }
   ],
   "source": [
    "model.eval()\n",
    "with torch.no_grad():\n",
    "  out = model(a, b)\n",
    "print(out)"
   ]
  },
  {
   "cell_type": "code",
   "execution_count": 110,
   "metadata": {},
   "outputs": [
    {
     "data": {
      "text/plain": [
       "\"Google Men's Short Sleeve Badge Tee Charcoal\""
      ]
     },
     "execution_count": 110,
     "metadata": {},
     "output_type": "execute_result"
    }
   ],
   "source": [
    "get_itemName(n)"
   ]
  },
  {
   "cell_type": "code",
   "execution_count": 111,
   "metadata": {},
   "outputs": [
    {
     "name": "stdout",
     "output_type": "stream",
     "text": [
      "Google Sunglasses\n",
      "Android Men's Long Sleeve Badge Crew Tee Heather\n",
      "Google Toddler Short Sleeve T-shirt Royal Blue\n",
      "Softsided Travel Pouch Set\n",
      "Ballpoint Pen Blue\n",
      "Google Long Sleeve Raglan Badge Henley Ocean Blue\n",
      "Google Women's Short Sleeve Performance Tee Black\n",
      "Android Twill Cap\n",
      "Google Luggage Tag\n",
      "Gift Card- $100.00\n",
      "Google Women's Zip Hoodie Grey\n",
      "Google Ballpoint Pen Black\n",
      "Suitcase Organizer Cubes\n",
      "Recycled Mouse Pad\n",
      "Windup Android\n",
      "Yoga Mat\n",
      "Keyboard DOT Sticker\n"
     ]
    }
   ],
   "source": [
    "liked_items(m, df_train)"
   ]
  },
  {
   "cell_type": "code",
   "execution_count": 112,
   "metadata": {},
   "outputs": [
    {
     "name": "stdout",
     "output_type": "stream",
     "text": [
      "Parker Gunmetal CT Ball Pen\n",
      "Google Tote Bag\n",
      "Waterpoof Gear Bag\n",
      "YouTube Womens 3/4 Sleeve Baseball Raglan White/Black\n",
      "PaperMate Ink Joy Retractable Pen\n",
      "Google Women's Performance Full Zip Jacket Black\n"
     ]
    }
   ],
   "source": [
    "liked_items(m, df_val)"
   ]
  },
  {
   "cell_type": "code",
   "execution_count": null,
   "metadata": {},
   "outputs": [],
   "source": []
  },
  {
   "cell_type": "code",
   "execution_count": null,
   "metadata": {},
   "outputs": [],
   "source": []
  },
  {
   "cell_type": "code",
   "execution_count": null,
   "metadata": {},
   "outputs": [],
   "source": []
  }
 ],
 "metadata": {
  "kernelspec": {
   "display_name": ".env",
   "language": "python",
   "name": ".env"
  },
  "language_info": {
   "codemirror_mode": {
    "name": "ipython",
    "version": 3
   },
   "file_extension": ".py",
   "mimetype": "text/x-python",
   "name": "python",
   "nbconvert_exporter": "python",
   "pygments_lexer": "ipython3",
   "version": "3.6.5"
  }
 },
 "nbformat": 4,
 "nbformat_minor": 2
}
