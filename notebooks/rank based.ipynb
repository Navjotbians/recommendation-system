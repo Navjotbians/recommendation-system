{
 "cells": [
  {
   "cell_type": "code",
   "execution_count": 1,
   "metadata": {},
   "outputs": [
    {
     "name": "stderr",
     "output_type": "stream",
     "text": [
      "F:\\AI\\Recommendation-system\\.env\\lib\\site-packages\\fuzzywuzzy\\fuzz.py:11: UserWarning: Using slow pure-python SequenceMatcher. Install python-Levenshtein to remove this warning\n",
      "  warnings.warn('Using slow pure-python SequenceMatcher. Install python-Levenshtein to remove this warning')\n"
     ]
    }
   ],
   "source": [
    "import pandas as pd\n",
    "import numpy as np\n",
    "import matplotlib.pyplot as plt\n",
    "from google.cloud import bigquery\n",
    "from scipy.sparse import csr_matrix\n",
    "from scipy.sparse import save_npz\n",
    "from fuzzywuzzy import process\n",
    "import implicit\n",
    "import pickle\n",
    "import os\n",
    "dir_path = os.path.dirname(os.getcwd())\n",
    "import sys  \n",
    "sys.path.append(os.path.join(dir_path, \"src\"))\n",
    "from utils import create_map"
   ]
  },
  {
   "cell_type": "code",
   "execution_count": 2,
   "metadata": {},
   "outputs": [],
   "source": [
    "products = pd.read_csv(os.path.join(dir_path, 'data', 'raw', 'product.csv'))"
   ]
  },
  {
   "cell_type": "code",
   "execution_count": 3,
   "metadata": {},
   "outputs": [
    {
     "data": {
      "text/html": [
       "<div>\n",
       "<style scoped>\n",
       "    .dataframe tbody tr th:only-of-type {\n",
       "        vertical-align: middle;\n",
       "    }\n",
       "\n",
       "    .dataframe tbody tr th {\n",
       "        vertical-align: top;\n",
       "    }\n",
       "\n",
       "    .dataframe thead th {\n",
       "        text-align: right;\n",
       "    }\n",
       "</style>\n",
       "<table border=\"1\" class=\"dataframe\">\n",
       "  <thead>\n",
       "    <tr style=\"text-align: right;\">\n",
       "      <th></th>\n",
       "      <th>id</th>\n",
       "      <th>visitorId</th>\n",
       "      <th>itemId</th>\n",
       "      <th>normalized_session_duration</th>\n",
       "    </tr>\n",
       "  </thead>\n",
       "  <tbody>\n",
       "    <tr>\n",
       "      <th>0</th>\n",
       "      <td>0</td>\n",
       "      <td>50743654948546081-2</td>\n",
       "      <td>GGOEGAAX0031</td>\n",
       "      <td>0.120099</td>\n",
       "    </tr>\n",
       "    <tr>\n",
       "      <th>1</th>\n",
       "      <td>1</td>\n",
       "      <td>5342238128015433624-1</td>\n",
       "      <td>GGOEGAAX0031</td>\n",
       "      <td>0.122196</td>\n",
       "    </tr>\n",
       "    <tr>\n",
       "      <th>2</th>\n",
       "      <td>2</td>\n",
       "      <td>966739175376367480-2</td>\n",
       "      <td>GGOEGAAX0031</td>\n",
       "      <td>0.428319</td>\n",
       "    </tr>\n",
       "    <tr>\n",
       "      <th>3</th>\n",
       "      <td>3</td>\n",
       "      <td>8321419770612068321-1</td>\n",
       "      <td>GGOEGAAX0031</td>\n",
       "      <td>0.000883</td>\n",
       "    </tr>\n",
       "    <tr>\n",
       "      <th>4</th>\n",
       "      <td>4</td>\n",
       "      <td>4132865605127470100-1</td>\n",
       "      <td>GGOEGAAX0031</td>\n",
       "      <td>0.526131</td>\n",
       "    </tr>\n",
       "  </tbody>\n",
       "</table>\n",
       "</div>"
      ],
      "text/plain": [
       "   id              visitorId        itemId  normalized_session_duration\n",
       "0   0    50743654948546081-2  GGOEGAAX0031                     0.120099\n",
       "1   1  5342238128015433624-1  GGOEGAAX0031                     0.122196\n",
       "2   2   966739175376367480-2  GGOEGAAX0031                     0.428319\n",
       "3   3  8321419770612068321-1  GGOEGAAX0031                     0.000883\n",
       "4   4  4132865605127470100-1  GGOEGAAX0031                     0.526131"
      ]
     },
     "execution_count": 3,
     "metadata": {},
     "output_type": "execute_result"
    }
   ],
   "source": [
    "norm_df = pd.read_csv(os.path.join(dir_path, 'data', 'normalized_data.csv'))\n",
    "norm_df.head()"
   ]
  },
  {
   "cell_type": "code",
   "execution_count": 4,
   "metadata": {},
   "outputs": [],
   "source": [
    "sparse_X, user_mapper, item_mapper, userIdx_id, itemIdx_id =  create_map(norm_df)\n"
   ]
  },
  {
   "cell_type": "code",
   "execution_count": 5,
   "metadata": {},
   "outputs": [],
   "source": [
    "def get_top_items(n, df=norm_df):\n",
    "    most_viewed_itemsId = df.groupby('itemId').count()\n",
    "    most_viewed_itemsId.sort_values('visitorId', ascending=False).head(10)\n",
    "    most_viewed_itemId_sorted = most_viewed_itemsId.sort_values('visitorId',ascending=False)\n",
    "    \n",
    "    ## Map product ID's with product names\n",
    "    itemId_name = dict(zip(products['itemId'], products['itemName']))\n",
    "    ## Inverse of 'itemId_name'\n",
    "    itemName_Id = dict(zip(products['itemName'], products['itemId']))\n",
    "    \n",
    "    top_items_id = []\n",
    "    top_items_name = []\n",
    "    for i in range(0,n):\n",
    "        top_items_id.append(most_viewed_itemId_sorted.index[i])\n",
    "        product_name = itemId_name[most_viewed_itemId_sorted.index[i]]\n",
    "        top_items_name.append(product_name)\n",
    "\n",
    "    \n",
    "    return top_items_id, top_items_name # Return the top item Ids and Item names from df "
   ]
  },
  {
   "cell_type": "code",
   "execution_count": 6,
   "metadata": {},
   "outputs": [
    {
     "name": "stdout",
     "output_type": "stream",
     "text": [
      "Top 10 most viewed items are :\n",
      " [\"Android Women's Short Sleeve Hero Tee Black\", 'Softsided Travel Pouch Set', 'Waterpoof Gear Bag', \"Google Men's  Zip Hoodie\", 'Keyboard DOT Sticker', 'Sport Bag', 'Google Laptop and Cell Phone Stickers', 'Android Toddler Short Sleeve T-shirt Pewter', 'Google Sunglasses', 'Gel Roller Pen']\n",
      "\n",
      "\n",
      "Top 10 most viewed item Ids are :\n",
      " ['GGOEGAAX0104', 'GGOEGBRJ037299', 'GGOEGBRA037499', 'GGOEGAAX0358', 'GGOEGFKA022299', 'GGOEGBRJ037399', 'GGOEGFKQ020399', 'GGOEGAAX0105', 'GGOEGAAX0037', 'GGOEGDHQ015399']\n"
     ]
    }
   ],
   "source": [
    "top_items_id, top_items_name = get_top_items(10, norm_df)\n",
    "print(\"Top 10 most viewed items are :\\n {}\".format(top_items_name))\n",
    "print(\"\\n\")\n",
    "print(\"Top 10 most viewed item Ids are :\\n {}\".format(top_items_id))"
   ]
  },
  {
   "cell_type": "markdown",
   "metadata": {},
   "source": [
    "### Check how sparse data is"
   ]
  },
  {
   "cell_type": "code",
   "execution_count": 11,
   "metadata": {},
   "outputs": [],
   "source": [
    "from sklearn.metrics.pairwise import cosine_similarity\n",
    "from scipy.sparse import csr_matrix\n",
    "import scipy"
   ]
  },
  {
   "cell_type": "code",
   "execution_count": 12,
   "metadata": {},
   "outputs": [],
   "source": [
    "## Finds the product name regardless of spelling mistake\n",
    "def item_finder(itemName):\n",
    "    all_names = products[\"itemName\"].tolist()\n",
    "    closest_match = process.extractOne(itemName,all_names)\n",
    "    return closest_match[0]\n",
    "\n",
    "## Map product ID's with product names\n",
    "itemId_name = dict(zip(products['itemId'], products['itemName']))\n",
    "## Inverse of 'itemId_name'\n",
    "itemName_Id = dict(zip(products['itemName'], products['itemId']))\n",
    "\n",
    "I = norm_df['itemId'].nunique()\n",
    "## Map item index value to item ID\n",
    "item_name = dict(zip(list(range(I)), np.unique(norm_df[\"itemId\"])))\n",
    "## Map item Id to index value\n",
    "item_mapper = dict(zip(np.unique(norm_df[\"itemId\"]), list(range(I))))\n",
    "\n",
    "\n",
    "## With Item Id get product name\n",
    "def get_itemName(item_idx):\n",
    "    item_id = item_name[item_idx]\n",
    "    product_name = itemId_name[item_id]\n",
    "    return product_name\n",
    "\n",
    "## With item name get item index value\n",
    "def get_item_index(itemName):\n",
    "    fuzzy_name = item_finder(itemName)\n",
    "    item_id = itemName_Id[fuzzy_name]\n",
    "    item_idx = item_mapper[item_id]\n",
    "    return item_idx"
   ]
  },
  {
   "cell_type": "code",
   "execution_count": 13,
   "metadata": {},
   "outputs": [],
   "source": [
    "V = norm_df['visitorId'].nunique()\n",
    "I = norm_df['itemId'].nunique()\n",
    "    \n",
    "user_mapper = dict(zip(np.unique(norm_df[\"visitorId\"]), list(range(V))))\n",
    "item_mapper = dict(zip(np.unique(norm_df[\"itemId\"]), list(range(I))))\n",
    "    \n",
    "user_name = dict(zip(list(range(V)), np.unique(norm_df[\"visitorId\"])))\n",
    "item_name = dict(zip(list(range(I)), np.unique(norm_df[\"itemId\"])))\n",
    "    \n",
    "user_index = [user_mapper[i] for i in norm_df['visitorId']]\n",
    "item_index = [item_mapper[i] for i in norm_df['itemId']]"
   ]
  },
  {
   "cell_type": "code",
   "execution_count": 40,
   "metadata": {},
   "outputs": [],
   "source": [
    "###  Return index of top n values in each row of a sparse matrix\n",
    "def top_n_idx_sparse(matrix, n):\n",
    "    top_n_idx = []\n",
    "    for le, ri in zip(matrix.indptr[:-1], matrix.indptr[1:]):\n",
    "        n_row_pick = min(n, ri - le)\n",
    "        top_n_idx.append(matrix.indices[le + np.argpartition(matrix.data[le:ri], -n_row_pick)[-n_row_pick:]])\n",
    "    return top_n_idx"
   ]
  },
  {
   "cell_type": "code",
   "execution_count": null,
   "metadata": {},
   "outputs": [],
   "source": [
    "item_sparse = cosine_similarity(sparse_X, dense_output=False)\n",
    "print('pairwise sparse output:\\n {}\\n'.format(item_sparse))"
   ]
  },
  {
   "cell_type": "code",
   "execution_count": 17,
   "metadata": {},
   "outputs": [
    {
     "name": "stdout",
     "output_type": "stream",
     "text": [
      "Matrix sparsity: 0.58%\n"
     ]
    }
   ],
   "source": [
    "sparsity = X.count_nonzero()/(sparse_X.shape[0]*sparse_X.shape[1])\n",
    "print(f\"Matrix sparsity: {round(sparsity*100,2)}%\")"
   ]
  },
  {
   "cell_type": "code",
   "execution_count": null,
   "metadata": {},
   "outputs": [],
   "source": [
    "### Top 5 similar items to the item\n",
    "item_item_similar = top_n_idx_sparse(item_sparse, 5)\n",
    "item_item_similar_dict = {}\n",
    "for idx, val in enumerate(item_item_similar):\n",
    "        item_item_similar_dict.update({idx: val.tolist()})\n",
    "item_item_similar_dict"
   ]
  },
  {
   "cell_type": "code",
   "execution_count": 28,
   "metadata": {},
   "outputs": [
    {
     "name": "stdout",
     "output_type": "stream",
     "text": [
      "Gunmetal Roller Ball Pen\n",
      "Waterproof Gear Bag\n",
      "Gel Roller Pen\n",
      "Colored Pencil Set\n",
      "Google Men's 100% Cotton Short Sleeve Hero Tee Navy\n"
     ]
    }
   ],
   "source": [
    "# Get item names\n",
    "for i in item_item_similar_dict[1]:\n",
    "    print(get_itemName(i))"
   ]
  },
  {
   "cell_type": "code",
   "execution_count": 30,
   "metadata": {},
   "outputs": [],
   "source": [
    "### Convert into array but menory doesn't allow\n",
    "# print(sparse_X.toarray())"
   ]
  },
  {
   "cell_type": "code",
   "execution_count": 31,
   "metadata": {},
   "outputs": [],
   "source": [
    "# similarities = cosine_similarity(X)\n",
    "# print('pairwise dense output:\\n {}\\n'.format(similarities))"
   ]
  },
  {
   "cell_type": "code",
   "execution_count": null,
   "metadata": {},
   "outputs": [],
   "source": [
    "## Also can output sparse matrices\n",
    "similarities_sparse = cosine_similarity(X,dense_output=False)\n",
    "print('pairwise sparse output:\\n {}\\n'.format(similarities_sparse))\n"
   ]
  },
  {
   "cell_type": "code",
   "execution_count": null,
   "metadata": {},
   "outputs": [],
   "source": [
    "## Save the similarities_sparse matrics\n",
    "# save_npz(os.path.join(dir_path, 'data', 'user_user_similarity'), similarities_sparse)"
   ]
  },
  {
   "cell_type": "code",
   "execution_count": null,
   "metadata": {},
   "outputs": [],
   "source": [
    "user_user_similar = top_n_idx_sparse(similarities_sparse, 10)\n",
    "user_user_similar_dict = {}\n",
    "for idx, val in enumerate(user_user_similar):\n",
    "        user_user_similar_dict.update({idx: val.tolist()})\n",
    "user_user_similar_dict"
   ]
  },
  {
   "cell_type": "code",
   "execution_count": null,
   "metadata": {},
   "outputs": [],
   "source": [
    "# # gets actual user ids from data based on sparse matrix position index\n",
    "# similar_users_final = {}\n",
    "# for user, similar_users in user_user_similar_dict.items():\n",
    "#     idx = user_name[user]\n",
    "#     values = []\n",
    "#     for value in similar_users:\n",
    "#         values.append(user_name[value])\n",
    "\n",
    "#     similar_users_final.update({idx: values})\n",
    "# similar_users_final"
   ]
  },
  {
   "cell_type": "code",
   "execution_count": 35,
   "metadata": {},
   "outputs": [
    {
     "data": {
      "text/plain": [
       "[\"Google Men's 100% Cotton Short Sleeve Hero Tee White\",\n",
       " 'Waterpoof Gear Bag',\n",
       " \"Google Men's Performance 1/4 Zip Pullover Heather/Black\"]"
      ]
     },
     "execution_count": 35,
     "metadata": {},
     "output_type": "execute_result"
    }
   ],
   "source": [
    "## Liked item by a perticular user\n",
    "def liked_items(visitorId, dataframe = norm_df):\n",
    "  user_id = (user_name[visitorId])\n",
    "  likes = dataframe[norm_df['visitorId'] == user_id]['itemId'].values.tolist()\n",
    "  liked = []\n",
    "  for i in likes:\n",
    "    liked.append(itemId_name[i])\n",
    "  return liked\n",
    "liked_items(1, norm_df)"
   ]
  },
  {
   "cell_type": "code",
   "execution_count": 36,
   "metadata": {},
   "outputs": [],
   "source": [
    "def recommend_product(q): ## q is user index number\n",
    "    if q >= V:\n",
    "        top_items_id, top_items_name = get_top_items(10, norm_df)\n",
    "        print(\"Recommend top selling products : \\n{}\".format(top_items_name))\n",
    "    else:\n",
    "        other_likes = []\n",
    "        q_likes = []\n",
    "        for j in liked_items(q, norm_df):\n",
    "            q_likes.append(j)\n",
    "        print(\"Items liked by user {} are : \\n {}\".format(q, q_likes))\n",
    "        for i in user_user_similar_dict[q]:\n",
    "            if i != q:\n",
    "                for p in liked_items(i, norm_df):\n",
    "                    if p not in other_likes:\n",
    "                        other_likes.append(p)\n",
    "        print(\"\\n\")        \n",
    "        print(\"Items liked by similar users \\n{}\".format(other_likes))\n",
    "        recom = []\n",
    "        for item in (other_likes):\n",
    "            if item not in q_likes:\n",
    "                recom.append(item)\n",
    "\n",
    "        if len(recom) == 0:\n",
    "            for i in q_likes:\n",
    "                item_indx = get_item_index(i)\n",
    "                item_item_similar_dict[item_indx]\n",
    "                for i in item_item_similar_dict[1]:\n",
    "        #             print(get_itemName(i))\n",
    "                    if get_itemName(i) not in q_likes:\n",
    "                        recom.append(get_itemName(i))\n",
    "\n",
    "            print(\"\\n\")                \n",
    "            print(\"New Product recommendation for you \\n{}\".format(recom))\n",
    "\n",
    "        else:\n",
    "            print(\"\\n\")\n",
    "            print(\"Product recommendation for you \\n{}\".format(recom))\n",
    "            print(\"\\n\")"
   ]
  },
  {
   "cell_type": "code",
   "execution_count": 37,
   "metadata": {},
   "outputs": [],
   "source": [
    "# lo = ['Waterpoof Gear Bag', \"Google Men's 100% Cotton Short Sleeve Hero Tee White\", 'Waterproof Gear Bag']\n",
    "# item_finder(\"Waterprof Gear Bag\")"
   ]
  },
  {
   "cell_type": "code",
   "execution_count": 39,
   "metadata": {},
   "outputs": [
    {
     "name": "stdout",
     "output_type": "stream",
     "text": [
      "Items liked by user 55 are : \n",
      " ['Waterpoof Gear Bag', 'Softsided Travel Pouch Set']\n",
      "\n",
      "\n",
      "Items liked by similar users \n",
      "['Waterpoof Gear Bag', 'Softsided Travel Pouch Set']\n",
      "\n",
      "\n",
      "New Product recommendation for you \n",
      "['Gunmetal Roller Ball Pen', 'Waterproof Gear Bag', 'Gel Roller Pen', 'Colored Pencil Set', \"Google Men's 100% Cotton Short Sleeve Hero Tee Navy\", 'Gunmetal Roller Ball Pen', 'Waterproof Gear Bag', 'Gel Roller Pen', 'Colored Pencil Set', \"Google Men's 100% Cotton Short Sleeve Hero Tee Navy\"]\n"
     ]
    }
   ],
   "source": [
    "recommend_product(55)"
   ]
  }
 ],
 "metadata": {
  "kernelspec": {
   "display_name": ".env",
   "language": "python",
   "name": ".env"
  },
  "language_info": {
   "codemirror_mode": {
    "name": "ipython",
    "version": 3
   },
   "file_extension": ".py",
   "mimetype": "text/x-python",
   "name": "python",
   "nbconvert_exporter": "python",
   "pygments_lexer": "ipython3",
   "version": "3.6.5"
  }
 },
 "nbformat": 4,
 "nbformat_minor": 2
}
