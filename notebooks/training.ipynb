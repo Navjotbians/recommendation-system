{
 "cells": [
  {
   "cell_type": "code",
   "execution_count": 1,
   "metadata": {},
   "outputs": [
    {
     "name": "stderr",
     "output_type": "stream",
     "text": [
      "F:\\AI\\Recommendation-system\\.env\\lib\\site-packages\\fuzzywuzzy\\fuzz.py:11: UserWarning: Using slow pure-python SequenceMatcher. Install python-Levenshtein to remove this warning\n",
      "  warnings.warn('Using slow pure-python SequenceMatcher. Install python-Levenshtein to remove this warning')\n"
     ]
    }
   ],
   "source": [
    "import pandas as pd\n",
    "import numpy as np\n",
    "import matplotlib.pyplot as plt\n",
    "from google.cloud import bigquery\n",
    "from scipy.sparse import csr_matrix\n",
    "from scipy.sparse import save_npz\n",
    "from fuzzywuzzy import process\n",
    "import implicit\n",
    "import pickle\n",
    "import os\n",
    "dir_path = os.path.dirname(os.getcwd())\n",
    "import sys  \n",
    "sys.path.append(os.path.join(dir_path, \"src\"))\n",
    "from utils import create_map"
   ]
  },
  {
   "cell_type": "code",
   "execution_count": 2,
   "metadata": {},
   "outputs": [],
   "source": [
    "products = pd.read_csv(os.path.join(dir_path, 'data', 'raw', 'product.csv'))"
   ]
  },
  {
   "cell_type": "code",
   "execution_count": 43,
   "metadata": {},
   "outputs": [
    {
     "data": {
      "text/html": [
       "<div>\n",
       "<style scoped>\n",
       "    .dataframe tbody tr th:only-of-type {\n",
       "        vertical-align: middle;\n",
       "    }\n",
       "\n",
       "    .dataframe tbody tr th {\n",
       "        vertical-align: top;\n",
       "    }\n",
       "\n",
       "    .dataframe thead th {\n",
       "        text-align: right;\n",
       "    }\n",
       "</style>\n",
       "<table border=\"1\" class=\"dataframe\">\n",
       "  <thead>\n",
       "    <tr style=\"text-align: right;\">\n",
       "      <th></th>\n",
       "      <th>id</th>\n",
       "      <th>visitorId</th>\n",
       "      <th>itemId</th>\n",
       "      <th>normalized_session_duration</th>\n",
       "    </tr>\n",
       "  </thead>\n",
       "  <tbody>\n",
       "    <tr>\n",
       "      <th>0</th>\n",
       "      <td>0</td>\n",
       "      <td>50743654948546081-2</td>\n",
       "      <td>GGOEGAAX0031</td>\n",
       "      <td>0.120099</td>\n",
       "    </tr>\n",
       "    <tr>\n",
       "      <th>1</th>\n",
       "      <td>1</td>\n",
       "      <td>5342238128015433624-1</td>\n",
       "      <td>GGOEGAAX0031</td>\n",
       "      <td>0.122196</td>\n",
       "    </tr>\n",
       "    <tr>\n",
       "      <th>2</th>\n",
       "      <td>2</td>\n",
       "      <td>966739175376367480-2</td>\n",
       "      <td>GGOEGAAX0031</td>\n",
       "      <td>0.428319</td>\n",
       "    </tr>\n",
       "    <tr>\n",
       "      <th>3</th>\n",
       "      <td>3</td>\n",
       "      <td>8321419770612068321-1</td>\n",
       "      <td>GGOEGAAX0031</td>\n",
       "      <td>0.000883</td>\n",
       "    </tr>\n",
       "    <tr>\n",
       "      <th>4</th>\n",
       "      <td>4</td>\n",
       "      <td>4132865605127470100-1</td>\n",
       "      <td>GGOEGAAX0031</td>\n",
       "      <td>0.526131</td>\n",
       "    </tr>\n",
       "  </tbody>\n",
       "</table>\n",
       "</div>"
      ],
      "text/plain": [
       "   id              visitorId        itemId  normalized_session_duration\n",
       "0   0    50743654948546081-2  GGOEGAAX0031                     0.120099\n",
       "1   1  5342238128015433624-1  GGOEGAAX0031                     0.122196\n",
       "2   2   966739175376367480-2  GGOEGAAX0031                     0.428319\n",
       "3   3  8321419770612068321-1  GGOEGAAX0031                     0.000883\n",
       "4   4  4132865605127470100-1  GGOEGAAX0031                     0.526131"
      ]
     },
     "execution_count": 43,
     "metadata": {},
     "output_type": "execute_result"
    }
   ],
   "source": [
    "norm_df = pd.read_csv(os.path.join(dir_path, 'data', 'normalized_data.csv'))\n",
    "norm_df.head()"
   ]
  },
  {
   "cell_type": "code",
   "execution_count": 38,
   "metadata": {},
   "outputs": [],
   "source": [
    "sparse_X, user_mapper, item_mapper, userIdx_id, itemIdx_id =  create_map(norm_df)\n"
   ]
  },
  {
   "cell_type": "markdown",
   "metadata": {},
   "source": [
    "### Check how sparse data is"
   ]
  },
  {
   "cell_type": "code",
   "execution_count": 5,
   "metadata": {},
   "outputs": [
    {
     "name": "stdout",
     "output_type": "stream",
     "text": [
      "Matrix sparsity: 0.58%\n"
     ]
    }
   ],
   "source": [
    "sparsity = sparse_X.count_nonzero()/(sparse_X.shape[0]*sparse_X.shape[1])\n",
    "print(f\"Matrix sparsity: {round(sparsity*100,2)}%\")"
   ]
  },
  {
   "cell_type": "code",
   "execution_count": 6,
   "metadata": {},
   "outputs": [],
   "source": [
    "### Save Sparse matrix for future use\n",
    "save_npz('../data/user_item_matrix.npz', sparse_X)"
   ]
  },
  {
   "cell_type": "code",
   "execution_count": 7,
   "metadata": {},
   "outputs": [],
   "source": [
    "## Finds the product name regardless of spelling mistake\n",
    "def item_finder(itemName):\n",
    "    all_names = products[\"itemName\"].tolist()\n",
    "    closest_match = process.extractOne(itemName,all_names)\n",
    "    return closest_match[0]\n",
    "\n",
    "## Map product ID's with product names\n",
    "itemId_name = dict(zip(products['itemId'], products['itemName']))\n",
    "## Inverse of 'itemId_name'\n",
    "itemName_Id = dict(zip(products['itemName'], products['itemId']))\n",
    "\n",
    "I = norm_df['itemId'].nunique()\n",
    "## Map item index value to item ID\n",
    "item_name = dict(zip(list(range(I)), np.unique(norm_df[\"itemId\"])))\n",
    "## Map item Id to index value\n",
    "item_mapper = dict(zip(np.unique(norm_df[\"itemId\"]), list(range(I))))\n",
    "\n",
    "\n",
    "## With Item Id get product name\n",
    "def get_itemName(item_idx):\n",
    "    item_id = item_name[item_idx]\n",
    "    product_name = itemId_name[item_id]\n",
    "    return product_name\n",
    "\n",
    "## With item name get item index value\n",
    "def get_item_index(itemName):\n",
    "    fuzzy_name = item_finder(itemName)\n",
    "    item_id = itemName_Id[fuzzy_name]\n",
    "    item_idx = item_mapper[item_id]\n",
    "    return item_idx"
   ]
  },
  {
   "cell_type": "code",
   "execution_count": 8,
   "metadata": {},
   "outputs": [
    {
     "data": {
      "text/plain": [
       "'Google Sunglasses'"
      ]
     },
     "execution_count": 8,
     "metadata": {},
     "output_type": "execute_result"
    }
   ],
   "source": [
    "item_finder(\"glass\")"
   ]
  },
  {
   "cell_type": "code",
   "execution_count": 9,
   "metadata": {},
   "outputs": [
    {
     "data": {
      "text/plain": [
       "196"
      ]
     },
     "execution_count": 9,
     "metadata": {},
     "output_type": "execute_result"
    }
   ],
   "source": [
    "get_item_index('glass')"
   ]
  },
  {
   "cell_type": "code",
   "execution_count": 10,
   "metadata": {},
   "outputs": [
    {
     "data": {
      "text/plain": [
       "'Google Sunglasses'"
      ]
     },
     "execution_count": 10,
     "metadata": {},
     "output_type": "execute_result"
    }
   ],
   "source": [
    "get_itemName(196)"
   ]
  },
  {
   "cell_type": "markdown",
   "metadata": {},
   "source": [
    "## Build Model"
   ]
  },
  {
   "cell_type": "code",
   "execution_count": 11,
   "metadata": {},
   "outputs": [
    {
     "name": "stderr",
     "output_type": "stream",
     "text": [
      "WARNING:root:OpenBLAS detected. Its highly recommend to set the environment variable 'export OPENBLAS_NUM_THREADS=1' to disable its internal multithreading\n"
     ]
    }
   ],
   "source": [
    "model = implicit.als.AlternatingLeastSquares(factors=50, calculate_training_loss=False, use_gpu=False)"
   ]
  },
  {
   "cell_type": "code",
   "execution_count": 12,
   "metadata": {},
   "outputs": [
    {
     "data": {
      "application/vnd.jupyter.widget-view+json": {
       "model_id": "b2fc00f2746c4a6db1e9e95b1b8ecb76",
       "version_major": 2,
       "version_minor": 0
      },
      "text/plain": [
       "  0%|          | 0/15 [00:00<?, ?it/s]"
      ]
     },
     "metadata": {},
     "output_type": "display_data"
    }
   ],
   "source": [
    "model.fit(sparse_X)"
   ]
  },
  {
   "cell_type": "code",
   "execution_count": 32,
   "metadata": {},
   "outputs": [],
   "source": [
    "# rr = [(1, 1.0),\n",
    "#  (6, 0.79173917),\n",
    "#  (269, 0.77855545),\n",
    "#  (14, 0.7783902),\n",
    "#  (268, 0.75167114),\n",
    "#  (30, 0.6727726),\n",
    "#  (13, 0.6721482),\n",
    "#  (346, 0.66535795),\n",
    "#  (235, 0.65510774),\n",
    "#  (231, 0.64452976)]"
   ]
  },
  {
   "cell_type": "code",
   "execution_count": 33,
   "metadata": {},
   "outputs": [
    {
     "name": "stdout",
     "output_type": "stream",
     "text": [
      "Because you liked 'Google Men's 100% Cotton Short Sleeve Hero Tee Navy'\n",
      "\n",
      "Colored Pencil Set\n",
      "Keyboard DOT Sticker\n",
      "Waterproof Gear Bag\n",
      "Compact Eco Journal\n",
      "Bic Leather Pen\n",
      "Bic Tri-Tone Twist Pen\n",
      "Maze Pen\n",
      "Google Hard Cover Journal\n",
      "Google Women's Short Sleeve V-Neck Tee Dark Grey\n"
     ]
    }
   ],
   "source": [
    "i = 1 ### User Clicked on item !\n",
    "recommendations = model.similar_items(1)\n",
    "print(\"Because you liked '{}'\\n\".format(get_itemName(i)))\n",
    "for r in recommendations:\n",
    "    if r[0]!= 1:\n",
    "        print(get_itemName(r[0]))"
   ]
  },
  {
   "cell_type": "code",
   "execution_count": null,
   "metadata": {},
   "outputs": [],
   "source": []
  },
  {
   "cell_type": "code",
   "execution_count": null,
   "metadata": {},
   "outputs": [],
   "source": []
  }
 ],
 "metadata": {
  "kernelspec": {
   "display_name": ".env",
   "language": "python",
   "name": ".env"
  },
  "language_info": {
   "codemirror_mode": {
    "name": "ipython",
    "version": 3
   },
   "file_extension": ".py",
   "mimetype": "text/x-python",
   "name": "python",
   "nbconvert_exporter": "python",
   "pygments_lexer": "ipython3",
   "version": "3.6.5"
  }
 },
 "nbformat": 4,
 "nbformat_minor": 2
}
