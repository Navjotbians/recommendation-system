{
 "cells": [
  {
   "cell_type": "code",
   "execution_count": 11,
   "metadata": {},
   "outputs": [],
   "source": [
    "import pandas as pd\n",
    "import numpy as np\n",
    "import matplotlib.pyplot as plt\n",
    "from google.cloud import bigquery\n",
    "from scipy.sparse import csr_matrix\n",
    "from scipy.sparse import save_npz\n",
    "from fuzzywuzzy import process\n",
    "import implicit\n",
    "import pickle\n",
    "import os\n",
    "dir_path = os.path.dirname(os.getcwd())\n",
    "import sys  \n",
    "sys.path.append(os.path.join(dir_path, \"src\"))\n",
    "from utils import create_map"
   ]
  },
  {
   "cell_type": "code",
   "execution_count": 12,
   "metadata": {},
   "outputs": [],
   "source": [
    "products = pd.read_csv(os.path.join(dir_path, 'data', 'raw', 'product.csv'))"
   ]
  },
  {
   "cell_type": "code",
   "execution_count": 13,
   "metadata": {},
   "outputs": [
    {
     "data": {
      "text/html": [
       "<div>\n",
       "<style scoped>\n",
       "    .dataframe tbody tr th:only-of-type {\n",
       "        vertical-align: middle;\n",
       "    }\n",
       "\n",
       "    .dataframe tbody tr th {\n",
       "        vertical-align: top;\n",
       "    }\n",
       "\n",
       "    .dataframe thead th {\n",
       "        text-align: right;\n",
       "    }\n",
       "</style>\n",
       "<table border=\"1\" class=\"dataframe\">\n",
       "  <thead>\n",
       "    <tr style=\"text-align: right;\">\n",
       "      <th></th>\n",
       "      <th>Unnamed: 0</th>\n",
       "      <th>visitorId</th>\n",
       "      <th>itemId</th>\n",
       "      <th>normalized_session_duration</th>\n",
       "    </tr>\n",
       "  </thead>\n",
       "  <tbody>\n",
       "    <tr>\n",
       "      <th>0</th>\n",
       "      <td>0</td>\n",
       "      <td>50743654948546081-2</td>\n",
       "      <td>GGOEGAAX0031</td>\n",
       "      <td>0.120099</td>\n",
       "    </tr>\n",
       "    <tr>\n",
       "      <th>1</th>\n",
       "      <td>1</td>\n",
       "      <td>5342238128015433624-1</td>\n",
       "      <td>GGOEGAAX0031</td>\n",
       "      <td>0.122196</td>\n",
       "    </tr>\n",
       "    <tr>\n",
       "      <th>2</th>\n",
       "      <td>2</td>\n",
       "      <td>966739175376367480-2</td>\n",
       "      <td>GGOEGAAX0031</td>\n",
       "      <td>0.428319</td>\n",
       "    </tr>\n",
       "    <tr>\n",
       "      <th>3</th>\n",
       "      <td>3</td>\n",
       "      <td>8321419770612068321-1</td>\n",
       "      <td>GGOEGAAX0031</td>\n",
       "      <td>0.000883</td>\n",
       "    </tr>\n",
       "    <tr>\n",
       "      <th>4</th>\n",
       "      <td>4</td>\n",
       "      <td>4132865605127470100-1</td>\n",
       "      <td>GGOEGAAX0031</td>\n",
       "      <td>0.526131</td>\n",
       "    </tr>\n",
       "  </tbody>\n",
       "</table>\n",
       "</div>"
      ],
      "text/plain": [
       "   Unnamed: 0              visitorId        itemId  \\\n",
       "0           0    50743654948546081-2  GGOEGAAX0031   \n",
       "1           1  5342238128015433624-1  GGOEGAAX0031   \n",
       "2           2   966739175376367480-2  GGOEGAAX0031   \n",
       "3           3  8321419770612068321-1  GGOEGAAX0031   \n",
       "4           4  4132865605127470100-1  GGOEGAAX0031   \n",
       "\n",
       "   normalized_session_duration  \n",
       "0                     0.120099  \n",
       "1                     0.122196  \n",
       "2                     0.428319  \n",
       "3                     0.000883  \n",
       "4                     0.526131  "
      ]
     },
     "execution_count": 13,
     "metadata": {},
     "output_type": "execute_result"
    }
   ],
   "source": [
    "norm_df = pd.read_csv(os.path.join(dir_path, 'data', 'normalized_data.csv'))\n",
    "norm_df.head()"
   ]
  },
  {
   "cell_type": "code",
   "execution_count": 20,
   "metadata": {},
   "outputs": [],
   "source": [
    "sparse_X, user_mapper, item_mapper, userIdx_id, itemIdx_id =  create_map(norm_df)"
   ]
  },
  {
   "cell_type": "markdown",
   "metadata": {},
   "source": [
    "### Check how sparse data is"
   ]
  },
  {
   "cell_type": "code",
   "execution_count": 15,
   "metadata": {},
   "outputs": [
    {
     "name": "stdout",
     "output_type": "stream",
     "text": [
      "Matrix sparsity: 0.58%\n"
     ]
    }
   ],
   "source": [
    "sparsity = sparse_X.count_nonzero()/(sparse_X.shape[0]*sparse_X.shape[1])\n",
    "print(f\"Matrix sparsity: {round(sparsity*100,2)}%\")"
   ]
  },
  {
   "cell_type": "code",
   "execution_count": 16,
   "metadata": {},
   "outputs": [],
   "source": [
    "### Save Sparse matrix for future use\n",
    "save_npz('../data/user_item_matrix.npz', sparse_X)"
   ]
  },
  {
   "cell_type": "code",
   "execution_count": 22,
   "metadata": {},
   "outputs": [],
   "source": [
    "## Finds the product name regardless of spelling mistake\n",
    "def item_finder(itemName):\n",
    "    all_names = products[\"itemName\"].tolist()\n",
    "    closest_match = process.extractOne(itemName,all_names)\n",
    "    return closest_match[0]\n",
    "\n",
    "## Map product ID's with product names\n",
    "itemId_name = dict(zip(products['itemId'], products['itemName']))\n",
    "## Inverse of 'itemId_name'\n",
    "itemName_Id = dict(zip(products['itemName'], products['itemId']))\n",
    "\n",
    "I = norm_df['itemId'].nunique()\n",
    "## Map item index value to item ID\n",
    "item_name = dict(zip(list(range(I)), np.unique(norm_df[\"itemId\"])))\n",
    "## Map item Id to index value\n",
    "item_mapper = dict(zip(np.unique(norm_df[\"itemId\"]), list(range(I))))\n",
    "\n",
    "\n",
    "## With Item Id get product name\n",
    "def get_itemName(item_idx):\n",
    "    item_id = item_name[item_idx]\n",
    "    product_name = itemId_name[item_id]\n",
    "    return product_name\n",
    "\n",
    "## With item name get item index value\n",
    "def get_item_index(itemName):\n",
    "    fuzzy_name = item_finder(itemName)\n",
    "    item_id = itemName_Id[fuzzy_name]\n",
    "    item_idx = item_mapper[item_id]\n",
    "    return item_idx"
   ]
  },
  {
   "cell_type": "code",
   "execution_count": 24,
   "metadata": {},
   "outputs": [
    {
     "data": {
      "text/plain": [
       "'Google Sunglasses'"
      ]
     },
     "execution_count": 24,
     "metadata": {},
     "output_type": "execute_result"
    }
   ],
   "source": [
    "item_finder(\"glass\")"
   ]
  },
  {
   "cell_type": "code",
   "execution_count": 23,
   "metadata": {},
   "outputs": [
    {
     "data": {
      "text/plain": [
       "196"
      ]
     },
     "execution_count": 23,
     "metadata": {},
     "output_type": "execute_result"
    }
   ],
   "source": [
    "get_item_index('glass')"
   ]
  },
  {
   "cell_type": "code",
   "execution_count": 25,
   "metadata": {},
   "outputs": [
    {
     "data": {
      "text/plain": [
       "'Google Sunglasses'"
      ]
     },
     "execution_count": 25,
     "metadata": {},
     "output_type": "execute_result"
    }
   ],
   "source": [
    "get_itemName(196)"
   ]
  },
  {
   "cell_type": "markdown",
   "metadata": {},
   "source": [
    "## Build Model"
   ]
  },
  {
   "cell_type": "code",
   "execution_count": 27,
   "metadata": {},
   "outputs": [],
   "source": [
    "model = implicit.als.AlternatingLeastSquares(factors=50, calculate_training_loss=False, use_gpu=False)"
   ]
  },
  {
   "cell_type": "code",
   "execution_count": 28,
   "metadata": {},
   "outputs": [
    {
     "data": {
      "application/vnd.jupyter.widget-view+json": {
       "model_id": "d0947bcc302247f487111fb23540acc1",
       "version_major": 2,
       "version_minor": 0
      },
      "text/plain": [
       "  0%|          | 0/15 [00:00<?, ?it/s]"
      ]
     },
     "metadata": {},
     "output_type": "display_data"
    }
   ],
   "source": [
    "model.fit(sparse_X)"
   ]
  },
  {
   "cell_type": "code",
   "execution_count": null,
   "metadata": {},
   "outputs": [],
   "source": []
  }
 ],
 "metadata": {
  "kernelspec": {
   "display_name": ".env",
   "language": "python",
   "name": ".env"
  },
  "language_info": {
   "codemirror_mode": {
    "name": "ipython",
    "version": 3
   },
   "file_extension": ".py",
   "mimetype": "text/x-python",
   "name": "python",
   "nbconvert_exporter": "python",
   "pygments_lexer": "ipython3",
   "version": "3.6.5"
  }
 },
 "nbformat": 4,
 "nbformat_minor": 2
}
