{
 "cells": [
  {
   "cell_type": "markdown",
   "metadata": {},
   "source": [
    "# EDA"
   ]
  },
  {
   "cell_type": "markdown",
   "metadata": {},
   "source": [
    "## Import libraries"
   ]
  },
  {
   "cell_type": "code",
   "execution_count": 1,
   "metadata": {},
   "outputs": [
    {
     "name": "stderr",
     "output_type": "stream",
     "text": [
      "F:\\AI\\Recommendation-system\\.env\\lib\\site-packages\\fuzzywuzzy\\fuzz.py:11: UserWarning: Using slow pure-python SequenceMatcher. Install python-Levenshtein to remove this warning\n",
      "  warnings.warn('Using slow pure-python SequenceMatcher. Install python-Levenshtein to remove this warning')\n"
     ]
    }
   ],
   "source": [
    "import pandas as pd\n",
    "import numpy as np\n",
    "import matplotlib.pyplot as plt\n",
    "from google.cloud import bigquery\n",
    "from scipy.sparse import csr_matrix\n",
    "from fuzzywuzzy import process\n",
    "import implicit\n",
    "import pickle\n",
    "import os"
   ]
  },
  {
   "cell_type": "code",
   "execution_count": 2,
   "metadata": {},
   "outputs": [],
   "source": [
    "## Magic function lets the bigquery run in Jupyter Notebook\n",
    "%load_ext google.cloud.bigquery"
   ]
  },
  {
   "cell_type": "markdown",
   "metadata": {},
   "source": [
    "### Set connection with project and dataset made on GCP"
   ]
  },
  {
   "cell_type": "code",
   "execution_count": 3,
   "metadata": {},
   "outputs": [],
   "source": [
    "client = bigquery.Client()\n",
    "merch_data_ref = client.dataset('merch_store', project = 'dummy24571')"
   ]
  },
  {
   "cell_type": "code",
   "execution_count": 4,
   "metadata": {},
   "outputs": [],
   "source": [
    "def bq2df(sql):\n",
    "    query = client.query(sql) # API request\n",
    "    results = query.result()\n",
    "    return results.to_dataframe()"
   ]
  },
  {
   "cell_type": "markdown",
   "metadata": {},
   "source": [
    "### Raw data"
   ]
  },
  {
   "cell_type": "code",
   "execution_count": 5,
   "metadata": {},
   "outputs": [
    {
     "data": {
      "text/html": [
       "<div>\n",
       "<style scoped>\n",
       "    .dataframe tbody tr th:only-of-type {\n",
       "        vertical-align: middle;\n",
       "    }\n",
       "\n",
       "    .dataframe tbody tr th {\n",
       "        vertical-align: top;\n",
       "    }\n",
       "\n",
       "    .dataframe thead th {\n",
       "        text-align: right;\n",
       "    }\n",
       "</style>\n",
       "<table border=\"1\" class=\"dataframe\">\n",
       "  <thead>\n",
       "    <tr style=\"text-align: right;\">\n",
       "      <th></th>\n",
       "      <th>visitorId</th>\n",
       "      <th>visitNumber</th>\n",
       "      <th>visitId</th>\n",
       "      <th>visitStartTime</th>\n",
       "      <th>date</th>\n",
       "      <th>totals</th>\n",
       "      <th>trafficSource</th>\n",
       "      <th>device</th>\n",
       "      <th>geoNetwork</th>\n",
       "      <th>customDimensions</th>\n",
       "      <th>hits</th>\n",
       "      <th>fullVisitorId</th>\n",
       "      <th>userId</th>\n",
       "      <th>channelGrouping</th>\n",
       "      <th>socialEngagementType</th>\n",
       "    </tr>\n",
       "  </thead>\n",
       "  <tbody>\n",
       "    <tr>\n",
       "      <th>0</th>\n",
       "      <td>NaN</td>\n",
       "      <td>1</td>\n",
       "      <td>1492697559</td>\n",
       "      <td>1492697559</td>\n",
       "      <td>20170420</td>\n",
       "      <td>{'visits': 1, 'hits': 1, 'pageviews': 1, 'time...</td>\n",
       "      <td>{'referralPath': None, 'campaign': '(not set)'...</td>\n",
       "      <td>{'browser': 'Chrome', 'browserVersion': 'not a...</td>\n",
       "      <td>{'continent': 'Americas', 'subContinent': 'Nor...</td>\n",
       "      <td>[{'index': 4, 'value': 'North America'}]</td>\n",
       "      <td>[{'hitNumber': 1, 'time': 0, 'hour': 7, 'minut...</td>\n",
       "      <td>4368429584712615478</td>\n",
       "      <td>None</td>\n",
       "      <td>Direct</td>\n",
       "      <td>Not Socially Engaged</td>\n",
       "    </tr>\n",
       "    <tr>\n",
       "      <th>1</th>\n",
       "      <td>NaN</td>\n",
       "      <td>1</td>\n",
       "      <td>1492680867</td>\n",
       "      <td>1492680867</td>\n",
       "      <td>20170420</td>\n",
       "      <td>{'visits': 1, 'hits': 1, 'pageviews': 1, 'time...</td>\n",
       "      <td>{'referralPath': None, 'campaign': '(not set)'...</td>\n",
       "      <td>{'browser': 'Chrome', 'browserVersion': 'not a...</td>\n",
       "      <td>{'continent': 'Europe', 'subContinent': 'South...</td>\n",
       "      <td>[{'index': 4, 'value': 'EMEA'}]</td>\n",
       "      <td>[{'hitNumber': 1, 'time': 0, 'hour': 2, 'minut...</td>\n",
       "      <td>4342102555691716751</td>\n",
       "      <td>None</td>\n",
       "      <td>Organic Search</td>\n",
       "      <td>Not Socially Engaged</td>\n",
       "    </tr>\n",
       "    <tr>\n",
       "      <th>2</th>\n",
       "      <td>NaN</td>\n",
       "      <td>1</td>\n",
       "      <td>1492690708</td>\n",
       "      <td>1492690708</td>\n",
       "      <td>20170420</td>\n",
       "      <td>{'visits': 1, 'hits': 1, 'pageviews': 1, 'time...</td>\n",
       "      <td>{'referralPath': None, 'campaign': '(not set)'...</td>\n",
       "      <td>{'browser': 'Chrome', 'browserVersion': 'not a...</td>\n",
       "      <td>{'continent': 'Americas', 'subContinent': 'Nor...</td>\n",
       "      <td>[{'index': 4, 'value': 'North America'}]</td>\n",
       "      <td>[{'hitNumber': 1, 'time': 0, 'hour': 5, 'minut...</td>\n",
       "      <td>164305643238960860</td>\n",
       "      <td>None</td>\n",
       "      <td>Direct</td>\n",
       "      <td>Not Socially Engaged</td>\n",
       "    </tr>\n",
       "    <tr>\n",
       "      <th>3</th>\n",
       "      <td>NaN</td>\n",
       "      <td>10</td>\n",
       "      <td>1492685011</td>\n",
       "      <td>1492685011</td>\n",
       "      <td>20170420</td>\n",
       "      <td>{'visits': 1, 'hits': 1, 'pageviews': 1, 'time...</td>\n",
       "      <td>{'referralPath': None, 'campaign': '(not set)'...</td>\n",
       "      <td>{'browser': 'Safari', 'browserVersion': 'not a...</td>\n",
       "      <td>{'continent': 'Asia', 'subContinent': 'Southea...</td>\n",
       "      <td>[{'index': 4, 'value': 'APAC'}]</td>\n",
       "      <td>[{'hitNumber': 1, 'time': 0, 'hour': 3, 'minut...</td>\n",
       "      <td>3198064546254305578</td>\n",
       "      <td>None</td>\n",
       "      <td>Organic Search</td>\n",
       "      <td>Not Socially Engaged</td>\n",
       "    </tr>\n",
       "    <tr>\n",
       "      <th>4</th>\n",
       "      <td>NaN</td>\n",
       "      <td>1</td>\n",
       "      <td>1492720266</td>\n",
       "      <td>1492720266</td>\n",
       "      <td>20170420</td>\n",
       "      <td>{'visits': 1, 'hits': 1, 'pageviews': 1, 'time...</td>\n",
       "      <td>{'referralPath': None, 'campaign': '(not set)'...</td>\n",
       "      <td>{'browser': 'Safari', 'browserVersion': 'not a...</td>\n",
       "      <td>{'continent': 'Europe', 'subContinent': 'Weste...</td>\n",
       "      <td>[{'index': 4, 'value': 'EMEA'}]</td>\n",
       "      <td>[{'hitNumber': 1, 'time': 0, 'hour': 13, 'minu...</td>\n",
       "      <td>038222802033793053</td>\n",
       "      <td>None</td>\n",
       "      <td>Organic Search</td>\n",
       "      <td>Not Socially Engaged</td>\n",
       "    </tr>\n",
       "  </tbody>\n",
       "</table>\n",
       "</div>"
      ],
      "text/plain": [
       "   visitorId  visitNumber     visitId  visitStartTime      date  \\\n",
       "0        NaN            1  1492697559      1492697559  20170420   \n",
       "1        NaN            1  1492680867      1492680867  20170420   \n",
       "2        NaN            1  1492690708      1492690708  20170420   \n",
       "3        NaN           10  1492685011      1492685011  20170420   \n",
       "4        NaN            1  1492720266      1492720266  20170420   \n",
       "\n",
       "                                              totals  \\\n",
       "0  {'visits': 1, 'hits': 1, 'pageviews': 1, 'time...   \n",
       "1  {'visits': 1, 'hits': 1, 'pageviews': 1, 'time...   \n",
       "2  {'visits': 1, 'hits': 1, 'pageviews': 1, 'time...   \n",
       "3  {'visits': 1, 'hits': 1, 'pageviews': 1, 'time...   \n",
       "4  {'visits': 1, 'hits': 1, 'pageviews': 1, 'time...   \n",
       "\n",
       "                                       trafficSource  \\\n",
       "0  {'referralPath': None, 'campaign': '(not set)'...   \n",
       "1  {'referralPath': None, 'campaign': '(not set)'...   \n",
       "2  {'referralPath': None, 'campaign': '(not set)'...   \n",
       "3  {'referralPath': None, 'campaign': '(not set)'...   \n",
       "4  {'referralPath': None, 'campaign': '(not set)'...   \n",
       "\n",
       "                                              device  \\\n",
       "0  {'browser': 'Chrome', 'browserVersion': 'not a...   \n",
       "1  {'browser': 'Chrome', 'browserVersion': 'not a...   \n",
       "2  {'browser': 'Chrome', 'browserVersion': 'not a...   \n",
       "3  {'browser': 'Safari', 'browserVersion': 'not a...   \n",
       "4  {'browser': 'Safari', 'browserVersion': 'not a...   \n",
       "\n",
       "                                          geoNetwork  \\\n",
       "0  {'continent': 'Americas', 'subContinent': 'Nor...   \n",
       "1  {'continent': 'Europe', 'subContinent': 'South...   \n",
       "2  {'continent': 'Americas', 'subContinent': 'Nor...   \n",
       "3  {'continent': 'Asia', 'subContinent': 'Southea...   \n",
       "4  {'continent': 'Europe', 'subContinent': 'Weste...   \n",
       "\n",
       "                           customDimensions  \\\n",
       "0  [{'index': 4, 'value': 'North America'}]   \n",
       "1           [{'index': 4, 'value': 'EMEA'}]   \n",
       "2  [{'index': 4, 'value': 'North America'}]   \n",
       "3           [{'index': 4, 'value': 'APAC'}]   \n",
       "4           [{'index': 4, 'value': 'EMEA'}]   \n",
       "\n",
       "                                                hits        fullVisitorId  \\\n",
       "0  [{'hitNumber': 1, 'time': 0, 'hour': 7, 'minut...  4368429584712615478   \n",
       "1  [{'hitNumber': 1, 'time': 0, 'hour': 2, 'minut...  4342102555691716751   \n",
       "2  [{'hitNumber': 1, 'time': 0, 'hour': 5, 'minut...   164305643238960860   \n",
       "3  [{'hitNumber': 1, 'time': 0, 'hour': 3, 'minut...  3198064546254305578   \n",
       "4  [{'hitNumber': 1, 'time': 0, 'hour': 13, 'minu...   038222802033793053   \n",
       "\n",
       "  userId channelGrouping  socialEngagementType  \n",
       "0   None          Direct  Not Socially Engaged  \n",
       "1   None  Organic Search  Not Socially Engaged  \n",
       "2   None          Direct  Not Socially Engaged  \n",
       "3   None  Organic Search  Not Socially Engaged  \n",
       "4   None  Organic Search  Not Socially Engaged  "
      ]
     },
     "execution_count": 5,
     "metadata": {},
     "output_type": "execute_result"
    }
   ],
   "source": [
    "q = ('SELECT * FROM `dummy24571.merch_store.ga_sessions_*` '\n",
    "    'LIMIT 100')\n",
    "complete_data = bq2df(q)\n",
    "complete_data.head()"
   ]
  },
  {
   "cell_type": "code",
   "execution_count": 6,
   "metadata": {},
   "outputs": [
    {
     "name": "stdout",
     "output_type": "stream",
     "text": [
      "HITS :- is an array of the nested fields that are populated for any and all types of hits.\n",
      "TOTALS :- is the section contains aggregate values across the session.\n"
     ]
    }
   ],
   "source": [
    "print(\"HITS :- is an array of the nested fields that are populated for any and all types of hits.\\nTOTALS :- is the section contains aggregate values across the session.\")"
   ]
  },
  {
   "cell_type": "markdown",
   "metadata": {},
   "source": [
    "### Number of tables in dataset"
   ]
  },
  {
   "cell_type": "code",
   "execution_count": 8,
   "metadata": {},
   "outputs": [
    {
     "data": {
      "text/plain": [
       "368"
      ]
     },
     "execution_count": 8,
     "metadata": {},
     "output_type": "execute_result"
    }
   ],
   "source": [
    "merch_data = client.get_dataset(merch_data_ref)\n",
    "tables = [x.table_id for x in client.list_tables(merch_data)]\n",
    "len(tables)"
   ]
  },
  {
   "cell_type": "markdown",
   "metadata": {},
   "source": [
    "The sample dataset contains jumbled Google Analytics 360 data from the Google Merchandise Store, a real ecommerce store for the period of 1-Aug-2016 to 1-Aug-2017.<br>\n",
    "It includes the following kinds of information:<br>\n",
    "1. Traffic source data: information about where website visitors originate. This includes data about organic traffic, paid search traffic, display traffic, etc.<br>\n",
    "2. Content data: information about the behavior of users on the site. This includes the URLs of pages that visitors look at, how they interact with content, etc.<br>\n",
    "3. Transactional data: information about the transactions that occur on the Google Merchandise Store website.\n",
    "\n",
    "<br>Orignal dataset contains total of 366 tables, one table for each day. Each row of the table represents a session and columns contains the detailed information about the session. Details on table schema and columns can be found here https://support.google.com/analytics/answer/3437719?hl=en"
   ]
  },
  {
   "cell_type": "markdown",
   "metadata": {},
   "source": [
    "### Extracting Data for Recommender System"
   ]
  },
  {
   "cell_type": "code",
   "execution_count": 9,
   "metadata": {},
   "outputs": [],
   "source": [
    "q = \"\"\"\n",
    "    SELECT \n",
    "      CONCAT(fullVisitorID,'-',CAST(visitNumber AS STRING)) AS visitorId,\n",
    "      hitNumber,\n",
    "      time,\n",
    "      page.pageTitle,\n",
    "      type,\n",
    "      productSKU,\n",
    "      v2ProductName,\n",
    "      v2ProductCategory,\n",
    "      productPrice/1000000 as productPrice_USD\n",
    "\n",
    "    FROM \n",
    "      `bigquery-public-data.google_analytics_sample.ga_sessions_20160801`, \n",
    "      UNNEST(hits) AS hits,\n",
    "      UNNEST(hits.product) AS hits_product\n",
    "\n",
    "\"\"\""
   ]
  },
  {
   "cell_type": "code",
   "execution_count": 10,
   "metadata": {},
   "outputs": [
    {
     "data": {
      "text/html": [
       "<div>\n",
       "<style scoped>\n",
       "    .dataframe tbody tr th:only-of-type {\n",
       "        vertical-align: middle;\n",
       "    }\n",
       "\n",
       "    .dataframe tbody tr th {\n",
       "        vertical-align: top;\n",
       "    }\n",
       "\n",
       "    .dataframe thead th {\n",
       "        text-align: right;\n",
       "    }\n",
       "</style>\n",
       "<table border=\"1\" class=\"dataframe\">\n",
       "  <thead>\n",
       "    <tr style=\"text-align: right;\">\n",
       "      <th></th>\n",
       "      <th>visitorId</th>\n",
       "      <th>hitNumber</th>\n",
       "      <th>time</th>\n",
       "      <th>pageTitle</th>\n",
       "      <th>type</th>\n",
       "      <th>productSKU</th>\n",
       "      <th>v2ProductName</th>\n",
       "      <th>v2ProductCategory</th>\n",
       "      <th>productPrice_USD</th>\n",
       "    </tr>\n",
       "  </thead>\n",
       "  <tbody>\n",
       "    <tr>\n",
       "      <th>0</th>\n",
       "      <td>7194065619159478122-1</td>\n",
       "      <td>2</td>\n",
       "      <td>30507</td>\n",
       "      <td>Gift Cards</td>\n",
       "      <td>PAGE</td>\n",
       "      <td>GGOEGGCX056299</td>\n",
       "      <td>Gift Card - $25.00</td>\n",
       "      <td>Home/Gift Cards/</td>\n",
       "      <td>25.00</td>\n",
       "    </tr>\n",
       "    <tr>\n",
       "      <th>1</th>\n",
       "      <td>7194065619159478122-1</td>\n",
       "      <td>2</td>\n",
       "      <td>30507</td>\n",
       "      <td>Gift Cards</td>\n",
       "      <td>PAGE</td>\n",
       "      <td>GGOEGGCX056499</td>\n",
       "      <td>Gift Card - $50.00</td>\n",
       "      <td>Home/Gift Cards/</td>\n",
       "      <td>50.00</td>\n",
       "    </tr>\n",
       "    <tr>\n",
       "      <th>2</th>\n",
       "      <td>7194065619159478122-1</td>\n",
       "      <td>2</td>\n",
       "      <td>30507</td>\n",
       "      <td>Gift Cards</td>\n",
       "      <td>PAGE</td>\n",
       "      <td>GGOEGGCX056199</td>\n",
       "      <td>Gift Card- $100.00</td>\n",
       "      <td>Home/Gift Cards/</td>\n",
       "      <td>100.00</td>\n",
       "    </tr>\n",
       "    <tr>\n",
       "      <th>3</th>\n",
       "      <td>7194065619159478122-1</td>\n",
       "      <td>2</td>\n",
       "      <td>30507</td>\n",
       "      <td>Gift Cards</td>\n",
       "      <td>PAGE</td>\n",
       "      <td>GGOEGGCX056399</td>\n",
       "      <td>Gift Card - $250.00</td>\n",
       "      <td>Home/Gift Cards/</td>\n",
       "      <td>250.00</td>\n",
       "    </tr>\n",
       "    <tr>\n",
       "      <th>4</th>\n",
       "      <td>8159312408158297118-151</td>\n",
       "      <td>2</td>\n",
       "      <td>289206</td>\n",
       "      <td>Men's-T-Shirts</td>\n",
       "      <td>PAGE</td>\n",
       "      <td>GGOEGAAX0104</td>\n",
       "      <td>Google Men's 100% Cotton Short Sleeve Hero Tee...</td>\n",
       "      <td>Home/Apparel/Men's/Men's-T-Shirts/</td>\n",
       "      <td>16.99</td>\n",
       "    </tr>\n",
       "  </tbody>\n",
       "</table>\n",
       "</div>"
      ],
      "text/plain": [
       "                 visitorId  hitNumber    time       pageTitle  type  \\\n",
       "0    7194065619159478122-1          2   30507      Gift Cards  PAGE   \n",
       "1    7194065619159478122-1          2   30507      Gift Cards  PAGE   \n",
       "2    7194065619159478122-1          2   30507      Gift Cards  PAGE   \n",
       "3    7194065619159478122-1          2   30507      Gift Cards  PAGE   \n",
       "4  8159312408158297118-151          2  289206  Men's-T-Shirts  PAGE   \n",
       "\n",
       "       productSKU                                      v2ProductName  \\\n",
       "0  GGOEGGCX056299                                 Gift Card - $25.00   \n",
       "1  GGOEGGCX056499                                 Gift Card - $50.00   \n",
       "2  GGOEGGCX056199                                 Gift Card- $100.00   \n",
       "3  GGOEGGCX056399                                Gift Card - $250.00   \n",
       "4    GGOEGAAX0104  Google Men's 100% Cotton Short Sleeve Hero Tee...   \n",
       "\n",
       "                    v2ProductCategory  productPrice_USD  \n",
       "0                    Home/Gift Cards/             25.00  \n",
       "1                    Home/Gift Cards/             50.00  \n",
       "2                    Home/Gift Cards/            100.00  \n",
       "3                    Home/Gift Cards/            250.00  \n",
       "4  Home/Apparel/Men's/Men's-T-Shirts/             16.99  "
      ]
     },
     "execution_count": 10,
     "metadata": {},
     "output_type": "execute_result"
    }
   ],
   "source": [
    "## Sample of data which we require \n",
    "dd = bq2df(q) \n",
    "dd.head()"
   ]
  },
  {
   "cell_type": "markdown",
   "metadata": {},
   "source": [
    "### Loading Processed Data"
   ]
  },
  {
   "cell_type": "code",
   "execution_count": 11,
   "metadata": {},
   "outputs": [
    {
     "data": {
      "text/html": [
       "<div>\n",
       "<style scoped>\n",
       "    .dataframe tbody tr th:only-of-type {\n",
       "        vertical-align: middle;\n",
       "    }\n",
       "\n",
       "    .dataframe tbody tr th {\n",
       "        vertical-align: top;\n",
       "    }\n",
       "\n",
       "    .dataframe thead th {\n",
       "        text-align: right;\n",
       "    }\n",
       "</style>\n",
       "<table border=\"1\" class=\"dataframe\">\n",
       "  <thead>\n",
       "    <tr style=\"text-align: right;\">\n",
       "      <th></th>\n",
       "      <th>visitorId</th>\n",
       "      <th>itemId</th>\n",
       "      <th>session_duration</th>\n",
       "    </tr>\n",
       "  </thead>\n",
       "  <tbody>\n",
       "    <tr>\n",
       "      <th>0</th>\n",
       "      <td>4063594254522767136-3</td>\n",
       "      <td>GGOEGAAX0031</td>\n",
       "      <td>7574</td>\n",
       "    </tr>\n",
       "    <tr>\n",
       "      <th>1</th>\n",
       "      <td>1928170213555367320-3</td>\n",
       "      <td>GGOEGAAX0031</td>\n",
       "      <td>7345</td>\n",
       "    </tr>\n",
       "    <tr>\n",
       "      <th>2</th>\n",
       "      <td>9654716697731503768-1</td>\n",
       "      <td>GGOEGAAX0031</td>\n",
       "      <td>21750</td>\n",
       "    </tr>\n",
       "    <tr>\n",
       "      <th>3</th>\n",
       "      <td>5142377269901159820-1</td>\n",
       "      <td>GGOEGAAX0031</td>\n",
       "      <td>14852</td>\n",
       "    </tr>\n",
       "    <tr>\n",
       "      <th>4</th>\n",
       "      <td>8139746986778805680-1</td>\n",
       "      <td>GGOEGAAX0031</td>\n",
       "      <td>22010</td>\n",
       "    </tr>\n",
       "  </tbody>\n",
       "</table>\n",
       "</div>"
      ],
      "text/plain": [
       "               visitorId        itemId  session_duration\n",
       "0  4063594254522767136-3  GGOEGAAX0031              7574\n",
       "1  1928170213555367320-3  GGOEGAAX0031              7345\n",
       "2  9654716697731503768-1  GGOEGAAX0031             21750\n",
       "3  5142377269901159820-1  GGOEGAAX0031             14852\n",
       "4  8139746986778805680-1  GGOEGAAX0031             22010"
      ]
     },
     "execution_count": 11,
     "metadata": {},
     "output_type": "execute_result"
    }
   ],
   "source": [
    "## Loading the processed data that I stored on GCP using processd_data.py\n",
    "q = \"\"\"\n",
    "    SELECT *\n",
    "    FROM merch_store.aggregate_web_stats\n",
    "    \"\"\"\n",
    "df = bq2df(q)\n",
    "df.head()"
   ]
  },
  {
   "cell_type": "code",
   "execution_count": 12,
   "metadata": {},
   "outputs": [
    {
     "name": "stdout",
     "output_type": "stream",
     "text": [
      "------- DATA SUMMARY -------\n",
      "\n",
      "Number of rows in processed data : 137514\n",
      "Number of columns in processed data : 3\n",
      "\n",
      "Number of Customers : 58531\n",
      "Total number of products : 374\n",
      "\n",
      "Stats of the processed data : \n",
      "       session_duration\n",
      "count      1.375140e+05\n",
      "mean       1.985806e+04\n",
      "std        8.236952e+04\n",
      "min        0.000000e+00\n",
      "25%        1.512000e+03\n",
      "50%        5.445000e+03\n",
      "75%        1.408700e+04\n",
      "max        2.562002e+06\n",
      "\n",
      "Number of product details viewed by the users but at the end of the session = 14494\n"
     ]
    }
   ],
   "source": [
    "print(\"------- DATA SUMMARY -------\\n\")\n",
    "print(\"Number of rows in processed data : {}\".format(df.shape[0]))\n",
    "print(\"Number of columns in processed data : {}\\n\".format(df.shape[1]))\n",
    "print(\"Number of Customers : {}\".format(df['visitorId'].nunique()))\n",
    "print(\"Total number of products : {}\\n\".format(df['itemId'].nunique()))\n",
    "print(\"Stats of the processed data : \\n{}\\n\".format(df.describe()))\n",
    "print(\"Number of product details viewed by the users but at the end of the session = {}\".format(sum(df['session_duration'] == 1)))"
   ]
  },
  {
   "cell_type": "markdown",
   "metadata": {},
   "source": [
    "### Most Viewed Products"
   ]
  },
  {
   "cell_type": "markdown",
   "metadata": {},
   "source": [
    "Most viewed article_id, as well as how often it was viewed"
   ]
  },
  {
   "cell_type": "code",
   "execution_count": 57,
   "metadata": {},
   "outputs": [
    {
     "data": {
      "text/html": [
       "<div>\n",
       "<style scoped>\n",
       "    .dataframe tbody tr th:only-of-type {\n",
       "        vertical-align: middle;\n",
       "    }\n",
       "\n",
       "    .dataframe tbody tr th {\n",
       "        vertical-align: top;\n",
       "    }\n",
       "\n",
       "    .dataframe thead th {\n",
       "        text-align: right;\n",
       "    }\n",
       "</style>\n",
       "<table border=\"1\" class=\"dataframe\">\n",
       "  <thead>\n",
       "    <tr style=\"text-align: right;\">\n",
       "      <th></th>\n",
       "      <th>visitorId</th>\n",
       "      <th>session_duration</th>\n",
       "    </tr>\n",
       "    <tr>\n",
       "      <th>itemId</th>\n",
       "      <th></th>\n",
       "      <th></th>\n",
       "    </tr>\n",
       "  </thead>\n",
       "  <tbody>\n",
       "    <tr>\n",
       "      <th>GGOEGAAX0104</th>\n",
       "      <td>3494</td>\n",
       "      <td>3494</td>\n",
       "    </tr>\n",
       "    <tr>\n",
       "      <th>GGOEGBRJ037299</th>\n",
       "      <td>3427</td>\n",
       "      <td>3427</td>\n",
       "    </tr>\n",
       "    <tr>\n",
       "      <th>GGOEGBRA037499</th>\n",
       "      <td>3056</td>\n",
       "      <td>3056</td>\n",
       "    </tr>\n",
       "    <tr>\n",
       "      <th>GGOEGAAX0358</th>\n",
       "      <td>2740</td>\n",
       "      <td>2740</td>\n",
       "    </tr>\n",
       "    <tr>\n",
       "      <th>GGOEGFKA022299</th>\n",
       "      <td>2616</td>\n",
       "      <td>2616</td>\n",
       "    </tr>\n",
       "    <tr>\n",
       "      <th>GGOEGBRJ037399</th>\n",
       "      <td>2531</td>\n",
       "      <td>2531</td>\n",
       "    </tr>\n",
       "    <tr>\n",
       "      <th>GGOEGFKQ020399</th>\n",
       "      <td>2395</td>\n",
       "      <td>2395</td>\n",
       "    </tr>\n",
       "    <tr>\n",
       "      <th>GGOEGAAX0105</th>\n",
       "      <td>2176</td>\n",
       "      <td>2176</td>\n",
       "    </tr>\n",
       "    <tr>\n",
       "      <th>GGOEGAAX0037</th>\n",
       "      <td>2109</td>\n",
       "      <td>2109</td>\n",
       "    </tr>\n",
       "    <tr>\n",
       "      <th>GGOEGDHQ015399</th>\n",
       "      <td>1828</td>\n",
       "      <td>1828</td>\n",
       "    </tr>\n",
       "  </tbody>\n",
       "</table>\n",
       "</div>"
      ],
      "text/plain": [
       "                visitorId  session_duration\n",
       "itemId                                     \n",
       "GGOEGAAX0104         3494              3494\n",
       "GGOEGBRJ037299       3427              3427\n",
       "GGOEGBRA037499       3056              3056\n",
       "GGOEGAAX0358         2740              2740\n",
       "GGOEGFKA022299       2616              2616\n",
       "GGOEGBRJ037399       2531              2531\n",
       "GGOEGFKQ020399       2395              2395\n",
       "GGOEGAAX0105         2176              2176\n",
       "GGOEGAAX0037         2109              2109\n",
       "GGOEGDHQ015399       1828              1828"
      ]
     },
     "execution_count": 57,
     "metadata": {},
     "output_type": "execute_result"
    }
   ],
   "source": [
    "most_viewed_itemsId = df.groupby('itemId').count()\n",
    "most_viewed_itemsId.sort_values('visitorId', ascending=False).head(10)\n",
    "most_viewed_itemId_sorted = most_viewed_itemsId.sort_values('visitorId',ascending=False)\n",
    "most_viewed_itemId_sorted.head(10)"
   ]
  },
  {
   "cell_type": "code",
   "execution_count": 62,
   "metadata": {},
   "outputs": [
    {
     "name": "stdout",
     "output_type": "stream",
     "text": [
      "The most viewed item in the dataset : GGOEGAAX0104\n",
      "The most viewed item in the dataset was viewed how many times? 3494\n"
     ]
    }
   ],
   "source": [
    "most_viewed_article = str(most_viewed_itemsId.index[0])\n",
    "print('The most viewed item in the dataset : {}'.format(most_viewed_itemId_sorted.index[0]))\n",
    "max_views = most_viewed_itemsId.values[0]\n",
    "print('The most viewed item in the dataset was viewed how many times? {}'.format(most_viewed_itemId_sorted['visitorId'][0]))"
   ]
  },
  {
   "cell_type": "markdown",
   "metadata": {},
   "source": [
    "### Histogram of Session Durations"
   ]
  },
  {
   "cell_type": "markdown",
   "metadata": {},
   "source": [
    "Session durations could be little weird depending on how pessimistic and optimistic the customer is. We can plot the histogram of session durations in the dataset:"
   ]
  },
  {
   "cell_type": "code",
   "execution_count": 280,
   "metadata": {},
   "outputs": [
    {
     "data": {
      "text/plain": [
       "<AxesSubplot:ylabel='Frequency'>"
      ]
     },
     "execution_count": 280,
     "metadata": {},
     "output_type": "execute_result"
    },
    {
     "data": {
      "image/png": "[encoded data removed]",
      "text/plain": [
       "<Figure size 576x360 with 1 Axes>"
      ]
     },
     "metadata": {
      "needs_background": "light"
     },
     "output_type": "display_data"
    }
   ],
   "source": [
    "df['session_duration'].plot(kind= 'hist', logy=True, bins=100, figsize= [8,5])"
   ]
  },
  {
   "cell_type": "markdown",
   "metadata": {},
   "source": [
    "### Normalize Session Duration"
   ]
  },
  {
   "cell_type": "markdown",
   "metadata": {},
   "source": [
    "So, let’s scale and clip it the values by the median session duration (average duration will be dramatically affected by the outliers):"
   ]
  },
  {
   "cell_type": "code",
   "execution_count": 286,
   "metadata": {},
   "outputs": [
    {
     "data": {
      "text/html": [
       "<div>\n",
       "<style scoped>\n",
       "    .dataframe tbody tr th:only-of-type {\n",
       "        vertical-align: middle;\n",
       "    }\n",
       "\n",
       "    .dataframe tbody tr th {\n",
       "        vertical-align: top;\n",
       "    }\n",
       "\n",
       "    .dataframe thead th {\n",
       "        text-align: right;\n",
       "    }\n",
       "</style>\n",
       "<table border=\"1\" class=\"dataframe\">\n",
       "  <thead>\n",
       "    <tr style=\"text-align: right;\">\n",
       "      <th></th>\n",
       "      <th>visitorId</th>\n",
       "      <th>itemId</th>\n",
       "      <th>normalized_session_duration</th>\n",
       "    </tr>\n",
       "  </thead>\n",
       "  <tbody>\n",
       "    <tr>\n",
       "      <th>0</th>\n",
       "      <td>50743654948546081-2</td>\n",
       "      <td>GGOEGAAX0031</td>\n",
       "      <td>0.120099</td>\n",
       "    </tr>\n",
       "    <tr>\n",
       "      <th>1</th>\n",
       "      <td>5342238128015433624-1</td>\n",
       "      <td>GGOEGAAX0031</td>\n",
       "      <td>0.122196</td>\n",
       "    </tr>\n",
       "    <tr>\n",
       "      <th>2</th>\n",
       "      <td>966739175376367480-2</td>\n",
       "      <td>GGOEGAAX0031</td>\n",
       "      <td>0.428319</td>\n",
       "    </tr>\n",
       "    <tr>\n",
       "      <th>3</th>\n",
       "      <td>8321419770612068321-1</td>\n",
       "      <td>GGOEGAAX0031</td>\n",
       "      <td>0.000883</td>\n",
       "    </tr>\n",
       "    <tr>\n",
       "      <th>4</th>\n",
       "      <td>4132865605127470100-1</td>\n",
       "      <td>GGOEGAAX0031</td>\n",
       "      <td>0.526131</td>\n",
       "    </tr>\n",
       "  </tbody>\n",
       "</table>\n",
       "</div>"
      ],
      "text/plain": [
       "               visitorId        itemId  normalized_session_duration\n",
       "0    50743654948546081-2  GGOEGAAX0031                     0.120099\n",
       "1  5342238128015433624-1  GGOEGAAX0031                     0.122196\n",
       "2   966739175376367480-2  GGOEGAAX0031                     0.428319\n",
       "3  8321419770612068321-1  GGOEGAAX0031                     0.000883\n",
       "4  4132865605127470100-1  GGOEGAAX0031                     0.526131"
      ]
     },
     "execution_count": 286,
     "metadata": {},
     "output_type": "execute_result"
    }
   ],
   "source": [
    "## Processed data is normalized and saved on GCP using normalized_data.py\n",
    "\n",
    "norm_query = \"\"\"\n",
    "SELECT * \n",
    "FROM merch_store.recommendations_data\n",
    "--WHERE \n",
    "--visitorId LIKE '6535875617262565784%';\n",
    "\"\"\"\n",
    "norm_df = bq2df(norm_query)\n",
    "norm_df.head()"
   ]
  },
  {
   "cell_type": "code",
   "execution_count": 291,
   "metadata": {},
   "outputs": [
    {
     "data": {
      "text/html": [
       "<div>\n",
       "<style scoped>\n",
       "    .dataframe tbody tr th:only-of-type {\n",
       "        vertical-align: middle;\n",
       "    }\n",
       "\n",
       "    .dataframe tbody tr th {\n",
       "        vertical-align: top;\n",
       "    }\n",
       "\n",
       "    .dataframe thead th {\n",
       "        text-align: right;\n",
       "    }\n",
       "</style>\n",
       "<table border=\"1\" class=\"dataframe\">\n",
       "  <thead>\n",
       "    <tr style=\"text-align: right;\">\n",
       "      <th></th>\n",
       "      <th>visitorId</th>\n",
       "      <th>itemId</th>\n",
       "      <th>normalized_session_duration</th>\n",
       "    </tr>\n",
       "  </thead>\n",
       "  <tbody>\n",
       "    <tr>\n",
       "      <th>39</th>\n",
       "      <td>0321971686985517255-1</td>\n",
       "      <td>GGOEGAAX0031</td>\n",
       "      <td>0.476260</td>\n",
       "    </tr>\n",
       "    <tr>\n",
       "      <th>7466</th>\n",
       "      <td>0321971686985517255-1</td>\n",
       "      <td>GGOEGAAX0127</td>\n",
       "      <td>0.658146</td>\n",
       "    </tr>\n",
       "    <tr>\n",
       "      <th>19057</th>\n",
       "      <td>0321971686985517255-1</td>\n",
       "      <td>GGOEGAAX0350</td>\n",
       "      <td>0.000166</td>\n",
       "    </tr>\n",
       "    <tr>\n",
       "      <th>42678</th>\n",
       "      <td>0321971686985517255-1</td>\n",
       "      <td>GGOEGBRA037499</td>\n",
       "      <td>0.239978</td>\n",
       "    </tr>\n",
       "    <tr>\n",
       "      <th>44430</th>\n",
       "      <td>0321971686985517255-1</td>\n",
       "      <td>GGOEGBRB013899</td>\n",
       "      <td>0.108073</td>\n",
       "    </tr>\n",
       "    <tr>\n",
       "      <th>52964</th>\n",
       "      <td>0321971686985517255-1</td>\n",
       "      <td>GGOEGDHB072199</td>\n",
       "      <td>0.393067</td>\n",
       "    </tr>\n",
       "    <tr>\n",
       "      <th>55258</th>\n",
       "      <td>0321971686985517255-1</td>\n",
       "      <td>GGOEGDHQ015399</td>\n",
       "      <td>0.480342</td>\n",
       "    </tr>\n",
       "    <tr>\n",
       "      <th>112984</th>\n",
       "      <td>0321971686985517255-1</td>\n",
       "      <td>GGOEGDHQ014899</td>\n",
       "      <td>1.000000</td>\n",
       "    </tr>\n",
       "    <tr>\n",
       "      <th>124545</th>\n",
       "      <td>0321971686985517255-1</td>\n",
       "      <td>GGOEGAAX0326</td>\n",
       "      <td>0.000055</td>\n",
       "    </tr>\n",
       "    <tr>\n",
       "      <th>131148</th>\n",
       "      <td>0321971686985517255-1</td>\n",
       "      <td>GGOEGDHC017999</td>\n",
       "      <td>0.000055</td>\n",
       "    </tr>\n",
       "  </tbody>\n",
       "</table>\n",
       "</div>"
      ],
      "text/plain": [
       "                    visitorId          itemId  normalized_session_duration\n",
       "39      0321971686985517255-1    GGOEGAAX0031                     0.476260\n",
       "7466    0321971686985517255-1    GGOEGAAX0127                     0.658146\n",
       "19057   0321971686985517255-1    GGOEGAAX0350                     0.000166\n",
       "42678   0321971686985517255-1  GGOEGBRA037499                     0.239978\n",
       "44430   0321971686985517255-1  GGOEGBRB013899                     0.108073\n",
       "52964   0321971686985517255-1  GGOEGDHB072199                     0.393067\n",
       "55258   0321971686985517255-1  GGOEGDHQ015399                     0.480342\n",
       "112984  0321971686985517255-1  GGOEGDHQ014899                     1.000000\n",
       "124545  0321971686985517255-1    GGOEGAAX0326                     0.000055\n",
       "131148  0321971686985517255-1  GGOEGDHC017999                     0.000055"
      ]
     },
     "execution_count": 291,
     "metadata": {},
     "output_type": "execute_result"
    }
   ],
   "source": [
    "## just testing if normalised data have same data as we have in processed data.\n",
    "norm_df[norm_df['visitorId']== \"0321971686985517255-1\"]"
   ]
  },
  {
   "cell_type": "markdown",
   "metadata": {},
   "source": [
    "### Histogram of Normalized Session Durations"
   ]
  },
  {
   "cell_type": "markdown",
   "metadata": {},
   "source": [
    "Now, the session duration is scaled and in the right range:"
   ]
  },
  {
   "cell_type": "code",
   "execution_count": 287,
   "metadata": {},
   "outputs": [
    {
     "data": {
      "text/plain": [
       "<AxesSubplot:ylabel='Frequency'>"
      ]
     },
     "execution_count": 287,
     "metadata": {},
     "output_type": "execute_result"
    },
    {
     "data": {
      "image/png": "[encoded data removed]",
      "text/plain": [
       "<Figure size 576x360 with 1 Axes>"
      ]
     },
     "metadata": {
      "needs_background": "light"
     },
     "output_type": "display_data"
    }
   ],
   "source": [
    "norm_df['normalized_session_duration'].plot(kind= 'hist', logy=True, bins=100, figsize= [8,5])"
   ]
  },
  {
   "cell_type": "code",
   "execution_count": 300,
   "metadata": {},
   "outputs": [],
   "source": [
    "# dir_path = os.path.dirname(os.getcwd())\n",
    "# norm_df.to_csv(os.path.join(dir_path, 'data', 'normalized_data.csv'))"
   ]
  },
  {
   "cell_type": "markdown",
   "metadata": {},
   "source": [
    "### Understanding how this processed data was created"
   ]
  },
  {
   "cell_type": "markdown",
   "metadata": {},
   "source": [
    "<br>\n",
    "Check also for customer 0237983577378351965\n"
   ]
  },
  {
   "cell_type": "code",
   "execution_count": 113,
   "metadata": {},
   "outputs": [
    {
     "name": "stderr",
     "output_type": "stream",
     "text": [
      "F:\\AI\\Recommendation-system\\.env\\lib\\site-packages\\google\\cloud\\bigquery\\job\\query.py:1327: UserWarning: A progress bar was requested, but there was an error loading the tqdm library. Please install tqdm to use the progress bar functionality.\n",
      "  query_result = wait_for_query(self, progress_bar_type)\n",
      "F:\\AI\\Recommendation-system\\.env\\lib\\site-packages\\google\\cloud\\bigquery\\table.py:1770: UserWarning: A progress bar was requested, but there was an error loading the tqdm library. Please install tqdm to use the progress bar functionality.\n",
      "  create_bqstorage_client=create_bqstorage_client,\n"
     ]
    },
    {
     "data": {
      "text/html": [
       "<div>\n",
       "<style scoped>\n",
       "    .dataframe tbody tr th:only-of-type {\n",
       "        vertical-align: middle;\n",
       "    }\n",
       "\n",
       "    .dataframe tbody tr th {\n",
       "        vertical-align: top;\n",
       "    }\n",
       "\n",
       "    .dataframe thead th {\n",
       "        text-align: right;\n",
       "    }\n",
       "</style>\n",
       "<table border=\"1\" class=\"dataframe\">\n",
       "  <thead>\n",
       "    <tr style=\"text-align: right;\">\n",
       "      <th></th>\n",
       "      <th>visitorId</th>\n",
       "      <th>itemId</th>\n",
       "      <th>session_duration</th>\n",
       "    </tr>\n",
       "  </thead>\n",
       "  <tbody>\n",
       "    <tr>\n",
       "      <th>0</th>\n",
       "      <td>6535875617262565784-2</td>\n",
       "      <td>GGOEGAAX0031</td>\n",
       "      <td>13040</td>\n",
       "    </tr>\n",
       "    <tr>\n",
       "      <th>1</th>\n",
       "      <td>6535875617262565784-2</td>\n",
       "      <td>GGOEGAAX0651</td>\n",
       "      <td>5929</td>\n",
       "    </tr>\n",
       "    <tr>\n",
       "      <th>2</th>\n",
       "      <td>6535875617262565784-2</td>\n",
       "      <td>GGOEGAAX0652</td>\n",
       "      <td>10213</td>\n",
       "    </tr>\n",
       "    <tr>\n",
       "      <th>3</th>\n",
       "      <td>6535875617262565784-2</td>\n",
       "      <td>GGOEAKDH019899</td>\n",
       "      <td>50054</td>\n",
       "    </tr>\n",
       "    <tr>\n",
       "      <th>4</th>\n",
       "      <td>6535875617262565784-2</td>\n",
       "      <td>GGOEGBFC018799</td>\n",
       "      <td>2929</td>\n",
       "    </tr>\n",
       "    <tr>\n",
       "      <th>5</th>\n",
       "      <td>6535875617262565784-2</td>\n",
       "      <td>GGOEGBMC056599</td>\n",
       "      <td>7165</td>\n",
       "    </tr>\n",
       "    <tr>\n",
       "      <th>6</th>\n",
       "      <td>6535875617262565784-2</td>\n",
       "      <td>GGOEGCNB021099</td>\n",
       "      <td>18920</td>\n",
       "    </tr>\n",
       "    <tr>\n",
       "      <th>7</th>\n",
       "      <td>6535875617262565784-1</td>\n",
       "      <td>GGOEGDHC074099</td>\n",
       "      <td>36634</td>\n",
       "    </tr>\n",
       "    <tr>\n",
       "      <th>8</th>\n",
       "      <td>6535875617262565784-1</td>\n",
       "      <td>GGOEGESB015199</td>\n",
       "      <td>8597</td>\n",
       "    </tr>\n",
       "    <tr>\n",
       "      <th>9</th>\n",
       "      <td>6535875617262565784-1</td>\n",
       "      <td>GGOEGEVR014999</td>\n",
       "      <td>4244</td>\n",
       "    </tr>\n",
       "    <tr>\n",
       "      <th>10</th>\n",
       "      <td>6535875617262565784-1</td>\n",
       "      <td>GGOEGOXQ016399</td>\n",
       "      <td>92622</td>\n",
       "    </tr>\n",
       "    <tr>\n",
       "      <th>11</th>\n",
       "      <td>6535875617262565784-2</td>\n",
       "      <td>GGOEGOXQ016399</td>\n",
       "      <td>12425</td>\n",
       "    </tr>\n",
       "    <tr>\n",
       "      <th>12</th>\n",
       "      <td>6535875617262565784-1</td>\n",
       "      <td>GGOEGEVJ023999</td>\n",
       "      <td>1</td>\n",
       "    </tr>\n",
       "  </tbody>\n",
       "</table>\n",
       "</div>"
      ],
      "text/plain": [
       "                visitorId          itemId  session_duration\n",
       "0   6535875617262565784-2    GGOEGAAX0031             13040\n",
       "1   6535875617262565784-2    GGOEGAAX0651              5929\n",
       "2   6535875617262565784-2    GGOEGAAX0652             10213\n",
       "3   6535875617262565784-2  GGOEAKDH019899             50054\n",
       "4   6535875617262565784-2  GGOEGBFC018799              2929\n",
       "5   6535875617262565784-2  GGOEGBMC056599              7165\n",
       "6   6535875617262565784-2  GGOEGCNB021099             18920\n",
       "7   6535875617262565784-1  GGOEGDHC074099             36634\n",
       "8   6535875617262565784-1  GGOEGESB015199              8597\n",
       "9   6535875617262565784-1  GGOEGEVR014999              4244\n",
       "10  6535875617262565784-1  GGOEGOXQ016399             92622\n",
       "11  6535875617262565784-2  GGOEGOXQ016399             12425\n",
       "12  6535875617262565784-1  GGOEGEVJ023999                 1"
      ]
     },
     "execution_count": 113,
     "metadata": {},
     "output_type": "execute_result"
    }
   ],
   "source": [
    "%%bigquery\n",
    "SELECT\n",
    "    *\n",
    "FROM\n",
    "    merch_store.aggregate_web_stats\n",
    "WHERE \n",
    "visitorId LIKE '6535875617262565784%';\n",
    "\n"
   ]
  },
  {
   "cell_type": "code",
   "execution_count": 122,
   "metadata": {},
   "outputs": [
    {
     "name": "stderr",
     "output_type": "stream",
     "text": [
      "F:\\AI\\Recommendation-system\\.env\\lib\\site-packages\\google\\cloud\\bigquery\\job\\query.py:1327: UserWarning: A progress bar was requested, but there was an error loading the tqdm library. Please install tqdm to use the progress bar functionality.\n",
      "  query_result = wait_for_query(self, progress_bar_type)\n",
      "F:\\AI\\Recommendation-system\\.env\\lib\\site-packages\\google\\cloud\\bigquery\\table.py:1770: UserWarning: A progress bar was requested, but there was an error loading the tqdm library. Please install tqdm to use the progress bar functionality.\n",
      "  create_bqstorage_client=create_bqstorage_client,\n"
     ]
    },
    {
     "data": {
      "text/html": [
       "<div>\n",
       "<style scoped>\n",
       "    .dataframe tbody tr th:only-of-type {\n",
       "        vertical-align: middle;\n",
       "    }\n",
       "\n",
       "    .dataframe tbody tr th {\n",
       "        vertical-align: top;\n",
       "    }\n",
       "\n",
       "    .dataframe thead th {\n",
       "        text-align: right;\n",
       "    }\n",
       "</style>\n",
       "<table border=\"1\" class=\"dataframe\">\n",
       "  <thead>\n",
       "    <tr style=\"text-align: right;\">\n",
       "      <th></th>\n",
       "      <th>visitorId</th>\n",
       "      <th>hits</th>\n",
       "      <th>productSKU</th>\n",
       "      <th>time</th>\n",
       "    </tr>\n",
       "  </thead>\n",
       "  <tbody>\n",
       "    <tr>\n",
       "      <th>0</th>\n",
       "      <td>6535875617262565784-2</td>\n",
       "      <td>{'hitNumber': 4, 'time': 242108, 'hour': 16, '...</td>\n",
       "      <td>GGOEAKDH019899</td>\n",
       "      <td>242108</td>\n",
       "    </tr>\n",
       "    <tr>\n",
       "      <th>1</th>\n",
       "      <td>6535875617262565784-2</td>\n",
       "      <td>{'hitNumber': 7, 'time': 311126, 'hour': 16, '...</td>\n",
       "      <td>GGOEGOXQ016399</td>\n",
       "      <td>311126</td>\n",
       "    </tr>\n",
       "    <tr>\n",
       "      <th>2</th>\n",
       "      <td>6535875617262565784-2</td>\n",
       "      <td>{'hitNumber': 15, 'time': 380039, 'hour': 16, ...</td>\n",
       "      <td>GGOEGCNB021099</td>\n",
       "      <td>380039</td>\n",
       "    </tr>\n",
       "    <tr>\n",
       "      <th>3</th>\n",
       "      <td>6535875617262565784-2</td>\n",
       "      <td>{'hitNumber': 22, 'time': 576384, 'hour': 16, ...</td>\n",
       "      <td>GGOEGAAX0651</td>\n",
       "      <td>576384</td>\n",
       "    </tr>\n",
       "    <tr>\n",
       "      <th>4</th>\n",
       "      <td>6535875617262565784-2</td>\n",
       "      <td>{'hitNumber': 24, 'time': 582319, 'hour': 16, ...</td>\n",
       "      <td>GGOEGAAX0652</td>\n",
       "      <td>582319</td>\n",
       "    </tr>\n",
       "    <tr>\n",
       "      <th>5</th>\n",
       "      <td>6535875617262565784-2</td>\n",
       "      <td>{'hitNumber': 29, 'time': 823540, 'hour': 16, ...</td>\n",
       "      <td>GGOEGBFC018799</td>\n",
       "      <td>823540</td>\n",
       "    </tr>\n",
       "    <tr>\n",
       "      <th>6</th>\n",
       "      <td>6535875617262565784-2</td>\n",
       "      <td>{'hitNumber': 38, 'time': 932716, 'hour': 16, ...</td>\n",
       "      <td>GGOEGAAX0031</td>\n",
       "      <td>932716</td>\n",
       "    </tr>\n",
       "    <tr>\n",
       "      <th>7</th>\n",
       "      <td>6535875617262565784-2</td>\n",
       "      <td>{'hitNumber': 41, 'time': 973404, 'hour': 16, ...</td>\n",
       "      <td>GGOEGCNB021099</td>\n",
       "      <td>973404</td>\n",
       "    </tr>\n",
       "    <tr>\n",
       "      <th>8</th>\n",
       "      <td>6535875617262565784-2</td>\n",
       "      <td>{'hitNumber': 49, 'time': 1199208, 'hour': 16,...</td>\n",
       "      <td>GGOEGBMC056599</td>\n",
       "      <td>1199208</td>\n",
       "    </tr>\n",
       "    <tr>\n",
       "      <th>9</th>\n",
       "      <td>6535875617262565784-1</td>\n",
       "      <td>{'hitNumber': 5, 'time': 88142, 'hour': 10, 'm...</td>\n",
       "      <td>GGOEGDHC074099</td>\n",
       "      <td>88142</td>\n",
       "    </tr>\n",
       "    <tr>\n",
       "      <th>10</th>\n",
       "      <td>6535875617262565784-1</td>\n",
       "      <td>{'hitNumber': 9, 'time': 648361, 'hour': 11, '...</td>\n",
       "      <td>GGOEGOXQ016399</td>\n",
       "      <td>648361</td>\n",
       "    </tr>\n",
       "    <tr>\n",
       "      <th>11</th>\n",
       "      <td>6535875617262565784-1</td>\n",
       "      <td>{'hitNumber': 13, 'time': 820531, 'hour': 11, ...</td>\n",
       "      <td>GGOEGEVR014999</td>\n",
       "      <td>820531</td>\n",
       "    </tr>\n",
       "    <tr>\n",
       "      <th>12</th>\n",
       "      <td>6535875617262565784-1</td>\n",
       "      <td>{'hitNumber': 15, 'time': 824780, 'hour': 11, ...</td>\n",
       "      <td>GGOEGESB015199</td>\n",
       "      <td>824780</td>\n",
       "    </tr>\n",
       "    <tr>\n",
       "      <th>13</th>\n",
       "      <td>6535875617262565784-1</td>\n",
       "      <td>{'hitNumber': 17, 'time': 833381, 'hour': 11, ...</td>\n",
       "      <td>GGOEGEVJ023999</td>\n",
       "      <td>833381</td>\n",
       "    </tr>\n",
       "  </tbody>\n",
       "</table>\n",
       "</div>"
      ],
      "text/plain": [
       "                visitorId                                               hits  \\\n",
       "0   6535875617262565784-2  {'hitNumber': 4, 'time': 242108, 'hour': 16, '...   \n",
       "1   6535875617262565784-2  {'hitNumber': 7, 'time': 311126, 'hour': 16, '...   \n",
       "2   6535875617262565784-2  {'hitNumber': 15, 'time': 380039, 'hour': 16, ...   \n",
       "3   6535875617262565784-2  {'hitNumber': 22, 'time': 576384, 'hour': 16, ...   \n",
       "4   6535875617262565784-2  {'hitNumber': 24, 'time': 582319, 'hour': 16, ...   \n",
       "5   6535875617262565784-2  {'hitNumber': 29, 'time': 823540, 'hour': 16, ...   \n",
       "6   6535875617262565784-2  {'hitNumber': 38, 'time': 932716, 'hour': 16, ...   \n",
       "7   6535875617262565784-2  {'hitNumber': 41, 'time': 973404, 'hour': 16, ...   \n",
       "8   6535875617262565784-2  {'hitNumber': 49, 'time': 1199208, 'hour': 16,...   \n",
       "9   6535875617262565784-1  {'hitNumber': 5, 'time': 88142, 'hour': 10, 'm...   \n",
       "10  6535875617262565784-1  {'hitNumber': 9, 'time': 648361, 'hour': 11, '...   \n",
       "11  6535875617262565784-1  {'hitNumber': 13, 'time': 820531, 'hour': 11, ...   \n",
       "12  6535875617262565784-1  {'hitNumber': 15, 'time': 824780, 'hour': 11, ...   \n",
       "13  6535875617262565784-1  {'hitNumber': 17, 'time': 833381, 'hour': 11, ...   \n",
       "\n",
       "        productSKU     time  \n",
       "0   GGOEAKDH019899   242108  \n",
       "1   GGOEGOXQ016399   311126  \n",
       "2   GGOEGCNB021099   380039  \n",
       "3     GGOEGAAX0651   576384  \n",
       "4     GGOEGAAX0652   582319  \n",
       "5   GGOEGBFC018799   823540  \n",
       "6     GGOEGAAX0031   932716  \n",
       "7   GGOEGCNB021099   973404  \n",
       "8   GGOEGBMC056599  1199208  \n",
       "9   GGOEGDHC074099    88142  \n",
       "10  GGOEGOXQ016399   648361  \n",
       "11  GGOEGEVR014999   820531  \n",
       "12  GGOEGESB015199   824780  \n",
       "13  GGOEGEVJ023999   833381  "
      ]
     },
     "execution_count": 122,
     "metadata": {},
     "output_type": "execute_result"
    }
   ],
   "source": [
    "%%bigquery\n",
    "SELECT CONCAT(fullVisitorID,'-',CAST(visitNumber AS STRING)) AS visitorId, hits,productSKU, time\n",
    "FROM \n",
    "    `dummy24571.merch_store.ga_sessions_2016*`,\n",
    "UNNEST(hits) AS hits,\n",
    "UNNEST(hits.product) AS hits_product\n",
    "WHERE\n",
    "    hits.hitNumber > 0 AND fullVisitorId = '6535875617262565784' AND eCommerceAction.action_type = \"2\"\n",
    "LIMIT 50"
   ]
  },
  {
   "cell_type": "code",
   "execution_count": 131,
   "metadata": {},
   "outputs": [
    {
     "name": "stderr",
     "output_type": "stream",
     "text": [
      "F:\\AI\\Recommendation-system\\.env\\lib\\site-packages\\google\\cloud\\bigquery\\job\\query.py:1327: UserWarning: A progress bar was requested, but there was an error loading the tqdm library. Please install tqdm to use the progress bar functionality.\n",
      "  query_result = wait_for_query(self, progress_bar_type)\n",
      "F:\\AI\\Recommendation-system\\.env\\lib\\site-packages\\google\\cloud\\bigquery\\table.py:1770: UserWarning: A progress bar was requested, but there was an error loading the tqdm library. Please install tqdm to use the progress bar functionality.\n",
      "  create_bqstorage_client=create_bqstorage_client,\n"
     ]
    },
    {
     "data": {
      "text/html": [
       "<div>\n",
       "<style scoped>\n",
       "    .dataframe tbody tr th:only-of-type {\n",
       "        vertical-align: middle;\n",
       "    }\n",
       "\n",
       "    .dataframe tbody tr th {\n",
       "        vertical-align: top;\n",
       "    }\n",
       "\n",
       "    .dataframe thead th {\n",
       "        text-align: right;\n",
       "    }\n",
       "</style>\n",
       "<table border=\"1\" class=\"dataframe\">\n",
       "  <thead>\n",
       "    <tr style=\"text-align: right;\">\n",
       "      <th></th>\n",
       "      <th>visitorId</th>\n",
       "      <th>date</th>\n",
       "      <th>visitStartTime</th>\n",
       "      <th>hitNumber</th>\n",
       "      <th>totals_hits</th>\n",
       "      <th>productSKU</th>\n",
       "      <th>time</th>\n",
       "      <th>hour</th>\n",
       "    </tr>\n",
       "  </thead>\n",
       "  <tbody>\n",
       "    <tr>\n",
       "      <th>0</th>\n",
       "      <td>6535875617262565784-2</td>\n",
       "      <td>20160915</td>\n",
       "      <td>1473980323</td>\n",
       "      <td>5</td>\n",
       "      <td>52</td>\n",
       "      <td>GGOEGOXQ016399</td>\n",
       "      <td>292162</td>\n",
       "      <td>16</td>\n",
       "    </tr>\n",
       "    <tr>\n",
       "      <th>1</th>\n",
       "      <td>6535875617262565784-2</td>\n",
       "      <td>20160915</td>\n",
       "      <td>1473980323</td>\n",
       "      <td>5</td>\n",
       "      <td>52</td>\n",
       "      <td>GGOEGODR017799</td>\n",
       "      <td>292162</td>\n",
       "      <td>16</td>\n",
       "    </tr>\n",
       "    <tr>\n",
       "      <th>2</th>\n",
       "      <td>6535875617262565784-2</td>\n",
       "      <td>20160915</td>\n",
       "      <td>1473980323</td>\n",
       "      <td>5</td>\n",
       "      <td>52</td>\n",
       "      <td>GGOEGOFH020299</td>\n",
       "      <td>292162</td>\n",
       "      <td>16</td>\n",
       "    </tr>\n",
       "  </tbody>\n",
       "</table>\n",
       "</div>"
      ],
      "text/plain": [
       "               visitorId      date  visitStartTime  hitNumber  totals_hits  \\\n",
       "0  6535875617262565784-2  20160915      1473980323          5           52   \n",
       "1  6535875617262565784-2  20160915      1473980323          5           52   \n",
       "2  6535875617262565784-2  20160915      1473980323          5           52   \n",
       "\n",
       "       productSKU    time  hour  \n",
       "0  GGOEGOXQ016399  292162    16  \n",
       "1  GGOEGODR017799  292162    16  \n",
       "2  GGOEGOFH020299  292162    16  "
      ]
     },
     "execution_count": 131,
     "metadata": {},
     "output_type": "execute_result"
    }
   ],
   "source": [
    "%%bigquery\n",
    "SELECT \n",
    "    CONCAT(fullVisitorID,'-',CAST(visitNumber AS STRING)) AS visitorId,\n",
    "    date, visitStartTime,\n",
    "    hits.hitNumber, totals.hits AS totals_hits,productSKU, hits.time, hits.hour\n",
    "FROM \n",
    "    `dummy24571.merch_store.ga_sessions_2016*`,\n",
    "UNNEST(hits) AS hits,\n",
    "UNNEST(hits.product) AS hits_product\n",
    "WHERE\n",
    "    hits.hitNumber > 0 AND fullVisitorId = '6535875617262565784' AND visitNumber = 2 AND hitNumber = 5\n",
    "LIMIT 95"
   ]
  },
  {
   "cell_type": "code",
   "execution_count": 134,
   "metadata": {},
   "outputs": [
    {
     "data": {
      "text/plain": [
       "50054"
      ]
     },
     "execution_count": 134,
     "metadata": {},
     "output_type": "execute_result"
    }
   ],
   "source": [
    "# For customer 6535875617262565784-2, product = GGOEAKDH019899, time_duration is calculated by \n",
    "# taking the difference of click time of this product and the next product click time.\n",
    "# this procuct hitNumber = 4 and time is 242108, next product click time is 292162.\n",
    "hit4_time = 242108\n",
    "hit5_time = 292162\n",
    "sess_duration = hit5_time - hit4_time\n",
    "sess_duration"
   ]
  }
 ],
 "metadata": {
  "kernelspec": {
   "display_name": ".env",
   "language": "python",
   "name": ".env"
  },
  "language_info": {
   "codemirror_mode": {
    "name": "ipython",
    "version": 3
   },
   "file_extension": ".py",
   "mimetype": "text/x-python",
   "name": "python",
   "nbconvert_exporter": "python",
   "pygments_lexer": "ipython3",
   "version": "3.6.5"
  }
 },
 "nbformat": 4,
 "nbformat_minor": 2
}
