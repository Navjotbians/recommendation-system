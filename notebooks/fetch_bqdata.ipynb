{
 "cells": [
  {
   "cell_type": "markdown",
   "metadata": {},
   "source": [
    "## Import libraries"
   ]
  },
  {
   "cell_type": "code",
   "execution_count": 214,
   "metadata": {},
   "outputs": [],
   "source": [
    "import pandas as pd\n",
    "from google.cloud import bigquery\n",
    "import pickle\n",
    "import os"
   ]
  },
  {
   "cell_type": "code",
   "execution_count": 197,
   "metadata": {},
   "outputs": [
    {
     "name": "stdout",
     "output_type": "stream",
     "text": [
      "The google.cloud.bigquery extension is already loaded. To reload it, use:\n",
      "  %reload_ext google.cloud.bigquery\n"
     ]
    }
   ],
   "source": [
    "%load_ext google.cloud.bigquery"
   ]
  },
  {
   "cell_type": "code",
   "execution_count": 215,
   "metadata": {},
   "outputs": [],
   "source": [
    "client = bigquery.Client()\n",
    "merch_data_ref = client.dataset('merch_store', project = 'dummy24571')"
   ]
  },
  {
   "cell_type": "code",
   "execution_count": 216,
   "metadata": {},
   "outputs": [],
   "source": [
    "def bq2df(sql):\n",
    "    query = client.query(sql) # API request\n",
    "    results = query.result()\n",
    "    return results.to_dataframe()"
   ]
  },
  {
   "cell_type": "markdown",
   "metadata": {},
   "source": [
    "### Raw data"
   ]
  },
  {
   "cell_type": "code",
   "execution_count": 217,
   "metadata": {},
   "outputs": [],
   "source": [
    "q = ('SELECT * FROM `dummy24571.merch_store.ga_sessions_*` '\n",
    "    'LIMIT 100')"
   ]
  },
  {
   "cell_type": "code",
   "execution_count": 218,
   "metadata": {},
   "outputs": [],
   "source": [
    "complete_data = bq2df(q)"
   ]
  },
  {
   "cell_type": "code",
   "execution_count": 232,
   "metadata": {},
   "outputs": [
    {
     "data": {
      "text/html": [
       "<div>\n",
       "<style scoped>\n",
       "    .dataframe tbody tr th:only-of-type {\n",
       "        vertical-align: middle;\n",
       "    }\n",
       "\n",
       "    .dataframe tbody tr th {\n",
       "        vertical-align: top;\n",
       "    }\n",
       "\n",
       "    .dataframe thead th {\n",
       "        text-align: right;\n",
       "    }\n",
       "</style>\n",
       "<table border=\"1\" class=\"dataframe\">\n",
       "  <thead>\n",
       "    <tr style=\"text-align: right;\">\n",
       "      <th></th>\n",
       "      <th>visitorId</th>\n",
       "      <th>visitNumber</th>\n",
       "      <th>visitId</th>\n",
       "      <th>visitStartTime</th>\n",
       "      <th>date</th>\n",
       "      <th>totals</th>\n",
       "      <th>trafficSource</th>\n",
       "      <th>device</th>\n",
       "      <th>geoNetwork</th>\n",
       "      <th>customDimensions</th>\n",
       "      <th>hits</th>\n",
       "      <th>fullVisitorId</th>\n",
       "      <th>userId</th>\n",
       "      <th>channelGrouping</th>\n",
       "      <th>socialEngagementType</th>\n",
       "    </tr>\n",
       "  </thead>\n",
       "  <tbody>\n",
       "    <tr>\n",
       "      <th>0</th>\n",
       "      <td>NaN</td>\n",
       "      <td>2</td>\n",
       "      <td>1496626870</td>\n",
       "      <td>1496626870</td>\n",
       "      <td>20170604</td>\n",
       "      <td>{'visits': 1, 'hits': 1, 'pageviews': 1, 'time...</td>\n",
       "      <td>{'referralPath': None, 'campaign': '(not set)'...</td>\n",
       "      <td>{'browser': 'Safari', 'browserVersion': 'not a...</td>\n",
       "      <td>{'continent': 'Americas', 'subContinent': 'Nor...</td>\n",
       "      <td>[{'index': 4, 'value': 'North America'}]</td>\n",
       "      <td>[{'hitNumber': 1, 'time': 0, 'hour': 18, 'minu...</td>\n",
       "      <td>8822011492654883751</td>\n",
       "      <td>None</td>\n",
       "      <td>Organic Search</td>\n",
       "      <td>Not Socially Engaged</td>\n",
       "    </tr>\n",
       "    <tr>\n",
       "      <th>1</th>\n",
       "      <td>NaN</td>\n",
       "      <td>1</td>\n",
       "      <td>1496615015</td>\n",
       "      <td>1496615015</td>\n",
       "      <td>20170604</td>\n",
       "      <td>{'visits': 1, 'hits': 1, 'pageviews': 1, 'time...</td>\n",
       "      <td>{'referralPath': None, 'campaign': '(not set)'...</td>\n",
       "      <td>{'browser': 'Chrome', 'browserVersion': 'not a...</td>\n",
       "      <td>{'continent': 'Europe', 'subContinent': 'North...</td>\n",
       "      <td>[{'index': 4, 'value': 'EMEA'}]</td>\n",
       "      <td>[{'hitNumber': 1, 'time': 0, 'hour': 15, 'minu...</td>\n",
       "      <td>1993812746237919027</td>\n",
       "      <td>None</td>\n",
       "      <td>Organic Search</td>\n",
       "      <td>Not Socially Engaged</td>\n",
       "    </tr>\n",
       "    <tr>\n",
       "      <th>2</th>\n",
       "      <td>NaN</td>\n",
       "      <td>2</td>\n",
       "      <td>1496572624</td>\n",
       "      <td>1496572624</td>\n",
       "      <td>20170604</td>\n",
       "      <td>{'visits': 1, 'hits': 1, 'pageviews': 1, 'time...</td>\n",
       "      <td>{'referralPath': None, 'campaign': '(not set)'...</td>\n",
       "      <td>{'browser': 'Firefox', 'browserVersion': 'not ...</td>\n",
       "      <td>{'continent': 'Asia', 'subContinent': 'Souther...</td>\n",
       "      <td>[{'index': 4, 'value': 'APAC'}]</td>\n",
       "      <td>[{'hitNumber': 1, 'time': 0, 'hour': 3, 'minut...</td>\n",
       "      <td>4011793760141066616</td>\n",
       "      <td>None</td>\n",
       "      <td>Organic Search</td>\n",
       "      <td>Not Socially Engaged</td>\n",
       "    </tr>\n",
       "    <tr>\n",
       "      <th>3</th>\n",
       "      <td>NaN</td>\n",
       "      <td>1</td>\n",
       "      <td>1496585762</td>\n",
       "      <td>1496585762</td>\n",
       "      <td>20170604</td>\n",
       "      <td>{'visits': 1, 'hits': 1, 'pageviews': 1, 'time...</td>\n",
       "      <td>{'referralPath': None, 'campaign': '(not set)'...</td>\n",
       "      <td>{'browser': 'Safari', 'browserVersion': 'not a...</td>\n",
       "      <td>{'continent': 'Europe', 'subContinent': 'North...</td>\n",
       "      <td>[{'index': 4, 'value': 'EMEA'}]</td>\n",
       "      <td>[{'hitNumber': 1, 'time': 0, 'hour': 7, 'minut...</td>\n",
       "      <td>0104178955238742883</td>\n",
       "      <td>None</td>\n",
       "      <td>Organic Search</td>\n",
       "      <td>Not Socially Engaged</td>\n",
       "    </tr>\n",
       "    <tr>\n",
       "      <th>4</th>\n",
       "      <td>NaN</td>\n",
       "      <td>1</td>\n",
       "      <td>1496566167</td>\n",
       "      <td>1496566167</td>\n",
       "      <td>20170604</td>\n",
       "      <td>{'visits': 1, 'hits': 1, 'pageviews': 1, 'time...</td>\n",
       "      <td>{'referralPath': None, 'campaign': '(not set)'...</td>\n",
       "      <td>{'browser': 'Chrome', 'browserVersion': 'not a...</td>\n",
       "      <td>{'continent': 'Asia', 'subContinent': 'Eastern...</td>\n",
       "      <td>[]</td>\n",
       "      <td>[{'hitNumber': 1, 'time': 0, 'hour': 1, 'minut...</td>\n",
       "      <td>891671109788942422</td>\n",
       "      <td>None</td>\n",
       "      <td>Organic Search</td>\n",
       "      <td>Not Socially Engaged</td>\n",
       "    </tr>\n",
       "  </tbody>\n",
       "</table>\n",
       "</div>"
      ],
      "text/plain": [
       "   visitorId  visitNumber     visitId  visitStartTime      date  \\\n",
       "0        NaN            2  1496626870      1496626870  20170604   \n",
       "1        NaN            1  1496615015      1496615015  20170604   \n",
       "2        NaN            2  1496572624      1496572624  20170604   \n",
       "3        NaN            1  1496585762      1496585762  20170604   \n",
       "4        NaN            1  1496566167      1496566167  20170604   \n",
       "\n",
       "                                              totals  \\\n",
       "0  {'visits': 1, 'hits': 1, 'pageviews': 1, 'time...   \n",
       "1  {'visits': 1, 'hits': 1, 'pageviews': 1, 'time...   \n",
       "2  {'visits': 1, 'hits': 1, 'pageviews': 1, 'time...   \n",
       "3  {'visits': 1, 'hits': 1, 'pageviews': 1, 'time...   \n",
       "4  {'visits': 1, 'hits': 1, 'pageviews': 1, 'time...   \n",
       "\n",
       "                                       trafficSource  \\\n",
       "0  {'referralPath': None, 'campaign': '(not set)'...   \n",
       "1  {'referralPath': None, 'campaign': '(not set)'...   \n",
       "2  {'referralPath': None, 'campaign': '(not set)'...   \n",
       "3  {'referralPath': None, 'campaign': '(not set)'...   \n",
       "4  {'referralPath': None, 'campaign': '(not set)'...   \n",
       "\n",
       "                                              device  \\\n",
       "0  {'browser': 'Safari', 'browserVersion': 'not a...   \n",
       "1  {'browser': 'Chrome', 'browserVersion': 'not a...   \n",
       "2  {'browser': 'Firefox', 'browserVersion': 'not ...   \n",
       "3  {'browser': 'Safari', 'browserVersion': 'not a...   \n",
       "4  {'browser': 'Chrome', 'browserVersion': 'not a...   \n",
       "\n",
       "                                          geoNetwork  \\\n",
       "0  {'continent': 'Americas', 'subContinent': 'Nor...   \n",
       "1  {'continent': 'Europe', 'subContinent': 'North...   \n",
       "2  {'continent': 'Asia', 'subContinent': 'Souther...   \n",
       "3  {'continent': 'Europe', 'subContinent': 'North...   \n",
       "4  {'continent': 'Asia', 'subContinent': 'Eastern...   \n",
       "\n",
       "                           customDimensions  \\\n",
       "0  [{'index': 4, 'value': 'North America'}]   \n",
       "1           [{'index': 4, 'value': 'EMEA'}]   \n",
       "2           [{'index': 4, 'value': 'APAC'}]   \n",
       "3           [{'index': 4, 'value': 'EMEA'}]   \n",
       "4                                        []   \n",
       "\n",
       "                                                hits        fullVisitorId  \\\n",
       "0  [{'hitNumber': 1, 'time': 0, 'hour': 18, 'minu...  8822011492654883751   \n",
       "1  [{'hitNumber': 1, 'time': 0, 'hour': 15, 'minu...  1993812746237919027   \n",
       "2  [{'hitNumber': 1, 'time': 0, 'hour': 3, 'minut...  4011793760141066616   \n",
       "3  [{'hitNumber': 1, 'time': 0, 'hour': 7, 'minut...  0104178955238742883   \n",
       "4  [{'hitNumber': 1, 'time': 0, 'hour': 1, 'minut...   891671109788942422   \n",
       "\n",
       "  userId channelGrouping  socialEngagementType  \n",
       "0   None  Organic Search  Not Socially Engaged  \n",
       "1   None  Organic Search  Not Socially Engaged  \n",
       "2   None  Organic Search  Not Socially Engaged  \n",
       "3   None  Organic Search  Not Socially Engaged  \n",
       "4   None  Organic Search  Not Socially Engaged  "
      ]
     },
     "execution_count": 232,
     "metadata": {},
     "output_type": "execute_result"
    }
   ],
   "source": [
    "complete_data.head()"
   ]
  },
  {
   "cell_type": "code",
   "execution_count": 78,
   "metadata": {},
   "outputs": [],
   "source": [
    "merch_data = client.get_dataset(merch_data_ref)"
   ]
  },
  {
   "cell_type": "code",
   "execution_count": 147,
   "metadata": {},
   "outputs": [],
   "source": [
    "tables = [x.table_id for x in client.list_tables(merch_data)]"
   ]
  },
  {
   "cell_type": "code",
   "execution_count": 148,
   "metadata": {},
   "outputs": [
    {
     "data": {
      "text/plain": [
       "367"
      ]
     },
     "execution_count": 148,
     "metadata": {},
     "output_type": "execute_result"
    }
   ],
   "source": [
    "len(tables)"
   ]
  },
  {
   "cell_type": "code",
   "execution_count": 149,
   "metadata": {},
   "outputs": [],
   "source": [
    "merch_full = client.get_table(merch_data.table('ga_sessions_20160801'))"
   ]
  },
  {
   "cell_type": "code",
   "execution_count": 188,
   "metadata": {},
   "outputs": [],
   "source": [
    "q = \"\"\"\n",
    "    SELECT \n",
    "      CONCAT(fullVisitorID,'-',CAST(visitNumber AS STRING)) AS visitorId,\n",
    "      hitNumber,\n",
    "      time,\n",
    "      page.pageTitle,\n",
    "      type,\n",
    "      productSKU,\n",
    "      v2ProductName,\n",
    "      v2ProductCategory,\n",
    "      productPrice/1000000 as productPrice_USD\n",
    "\n",
    "    FROM \n",
    "      `bigquery-public-data.google_analytics_sample.ga_sessions_20160801`, \n",
    "      UNNEST(hits) AS hits,\n",
    "      UNNEST(hits.product) AS hits_product\n",
    "\n",
    "\"\"\""
   ]
  },
  {
   "cell_type": "code",
   "execution_count": 189,
   "metadata": {},
   "outputs": [],
   "source": [
    "dd = bq2df(q)"
   ]
  },
  {
   "cell_type": "code",
   "execution_count": 190,
   "metadata": {},
   "outputs": [
    {
     "data": {
      "text/html": [
       "<div>\n",
       "<style scoped>\n",
       "    .dataframe tbody tr th:only-of-type {\n",
       "        vertical-align: middle;\n",
       "    }\n",
       "\n",
       "    .dataframe tbody tr th {\n",
       "        vertical-align: top;\n",
       "    }\n",
       "\n",
       "    .dataframe thead th {\n",
       "        text-align: right;\n",
       "    }\n",
       "</style>\n",
       "<table border=\"1\" class=\"dataframe\">\n",
       "  <thead>\n",
       "    <tr style=\"text-align: right;\">\n",
       "      <th></th>\n",
       "      <th>visitorId</th>\n",
       "      <th>hitNumber</th>\n",
       "      <th>time</th>\n",
       "      <th>pageTitle</th>\n",
       "      <th>type</th>\n",
       "      <th>productSKU</th>\n",
       "      <th>v2ProductName</th>\n",
       "      <th>v2ProductCategory</th>\n",
       "      <th>productPrice_USD</th>\n",
       "    </tr>\n",
       "  </thead>\n",
       "  <tbody>\n",
       "    <tr>\n",
       "      <th>0</th>\n",
       "      <td>7194065619159478122-1</td>\n",
       "      <td>2</td>\n",
       "      <td>30507</td>\n",
       "      <td>Gift Cards</td>\n",
       "      <td>PAGE</td>\n",
       "      <td>GGOEGGCX056299</td>\n",
       "      <td>Gift Card - $25.00</td>\n",
       "      <td>Home/Gift Cards/</td>\n",
       "      <td>25.00</td>\n",
       "    </tr>\n",
       "    <tr>\n",
       "      <th>1</th>\n",
       "      <td>7194065619159478122-1</td>\n",
       "      <td>2</td>\n",
       "      <td>30507</td>\n",
       "      <td>Gift Cards</td>\n",
       "      <td>PAGE</td>\n",
       "      <td>GGOEGGCX056499</td>\n",
       "      <td>Gift Card - $50.00</td>\n",
       "      <td>Home/Gift Cards/</td>\n",
       "      <td>50.00</td>\n",
       "    </tr>\n",
       "    <tr>\n",
       "      <th>2</th>\n",
       "      <td>7194065619159478122-1</td>\n",
       "      <td>2</td>\n",
       "      <td>30507</td>\n",
       "      <td>Gift Cards</td>\n",
       "      <td>PAGE</td>\n",
       "      <td>GGOEGGCX056199</td>\n",
       "      <td>Gift Card- $100.00</td>\n",
       "      <td>Home/Gift Cards/</td>\n",
       "      <td>100.00</td>\n",
       "    </tr>\n",
       "    <tr>\n",
       "      <th>3</th>\n",
       "      <td>7194065619159478122-1</td>\n",
       "      <td>2</td>\n",
       "      <td>30507</td>\n",
       "      <td>Gift Cards</td>\n",
       "      <td>PAGE</td>\n",
       "      <td>GGOEGGCX056399</td>\n",
       "      <td>Gift Card - $250.00</td>\n",
       "      <td>Home/Gift Cards/</td>\n",
       "      <td>250.00</td>\n",
       "    </tr>\n",
       "    <tr>\n",
       "      <th>4</th>\n",
       "      <td>8159312408158297118-151</td>\n",
       "      <td>2</td>\n",
       "      <td>289206</td>\n",
       "      <td>Men's-T-Shirts</td>\n",
       "      <td>PAGE</td>\n",
       "      <td>GGOEGAAX0104</td>\n",
       "      <td>Google Men's 100% Cotton Short Sleeve Hero Tee...</td>\n",
       "      <td>Home/Apparel/Men's/Men's-T-Shirts/</td>\n",
       "      <td>16.99</td>\n",
       "    </tr>\n",
       "  </tbody>\n",
       "</table>\n",
       "</div>"
      ],
      "text/plain": [
       "                 visitorId  hitNumber    time       pageTitle  type  \\\n",
       "0    7194065619159478122-1          2   30507      Gift Cards  PAGE   \n",
       "1    7194065619159478122-1          2   30507      Gift Cards  PAGE   \n",
       "2    7194065619159478122-1          2   30507      Gift Cards  PAGE   \n",
       "3    7194065619159478122-1          2   30507      Gift Cards  PAGE   \n",
       "4  8159312408158297118-151          2  289206  Men's-T-Shirts  PAGE   \n",
       "\n",
       "       productSKU                                      v2ProductName  \\\n",
       "0  GGOEGGCX056299                                 Gift Card - $25.00   \n",
       "1  GGOEGGCX056499                                 Gift Card - $50.00   \n",
       "2  GGOEGGCX056199                                 Gift Card- $100.00   \n",
       "3  GGOEGGCX056399                                Gift Card - $250.00   \n",
       "4    GGOEGAAX0104  Google Men's 100% Cotton Short Sleeve Hero Tee...   \n",
       "\n",
       "                    v2ProductCategory  productPrice_USD  \n",
       "0                    Home/Gift Cards/             25.00  \n",
       "1                    Home/Gift Cards/             50.00  \n",
       "2                    Home/Gift Cards/            100.00  \n",
       "3                    Home/Gift Cards/            250.00  \n",
       "4  Home/Apparel/Men's/Men's-T-Shirts/             16.99  "
      ]
     },
     "execution_count": 190,
     "metadata": {},
     "output_type": "execute_result"
    }
   ],
   "source": [
    "dd.head()"
   ]
  },
  {
   "cell_type": "code",
   "execution_count": 191,
   "metadata": {},
   "outputs": [],
   "source": [
    "pre_process = \"\"\"    \n",
    "    CREATE OR REPLACE TABLE merch_store.aggregate_web_stats AS (\n",
    "      WITH\n",
    "        durations AS (\n",
    "          --calculate pageview durations\n",
    "          SELECT\n",
    "            CONCAT(fullVisitorID,'-', \n",
    "                 CAST(visitNumber AS STRING),'-', \n",
    "                 CAST(hitNumber AS STRING) ) AS visitorId_session_hit,\n",
    "            LEAD(time, 1) OVER (\n",
    "              PARTITION BY CONCAT(fullVisitorID,'-',CAST(visitNumber AS STRING))\n",
    "              ORDER BY\n",
    "              time ASC ) - time AS pageview_duration\n",
    "          FROM\n",
    "            `bigquery-public-data.google_analytics_sample.ga_sessions_2016*`,\n",
    "            UNNEST(hits) AS hit \n",
    "        ),\n",
    "\n",
    "        prodview_durations AS (\n",
    "          --filter for product detail pages only\n",
    "          SELECT\n",
    "            CONCAT(fullVisitorID,'-',CAST(visitNumber AS STRING)) AS visitorId,\n",
    "            productSKU AS itemId,\n",
    "            IFNULL(dur.pageview_duration,\n",
    "              1) AS pageview_duration,\n",
    "          FROM\n",
    "            `bigquery-public-data.google_analytics_sample.ga_sessions_2016*` t,\n",
    "            UNNEST(hits) AS hits,\n",
    "            UNNEST(hits.product) AS hits_product\n",
    "          JOIN\n",
    "            durations dur\n",
    "          ON\n",
    "            CONCAT(fullVisitorID,'-',\n",
    "                   CAST(visitNumber AS STRING),'-',\n",
    "                   CAST(hitNumber AS STRING)) = dur.visitorId_session_hit\n",
    "          WHERE\n",
    "          #action_type: Product detail views = 2\n",
    "          eCommerceAction.action_type = \"2\" \n",
    "        ),\n",
    "\n",
    "        aggregate_web_stats AS(\n",
    "          --sum pageview durations by visitorId, itemId\n",
    "          SELECT\n",
    "            visitorId,\n",
    "            itemId,\n",
    "            SUM(pageview_duration) AS session_duration\n",
    "          FROM\n",
    "            prodview_durations\n",
    "          GROUP BY\n",
    "            visitorId,\n",
    "            itemId )\n",
    "        SELECT\n",
    "          *\n",
    "        FROM\n",
    "          aggregate_web_stats\n",
    "    );\n",
    "    -- Show table\n",
    "    SELECT\n",
    "      *\n",
    "    FROM\n",
    "      merch_store.aggregate_web_stats\n",
    "\n",
    "\"\"\"\n",
    "        "
   ]
  },
  {
   "cell_type": "code",
   "execution_count": 192,
   "metadata": {},
   "outputs": [],
   "source": [
    "processed_data = bq2df(qt1)"
   ]
  },
  {
   "cell_type": "code",
   "execution_count": 193,
   "metadata": {},
   "outputs": [
    {
     "data": {
      "text/html": [
       "<div>\n",
       "<style scoped>\n",
       "    .dataframe tbody tr th:only-of-type {\n",
       "        vertical-align: middle;\n",
       "    }\n",
       "\n",
       "    .dataframe tbody tr th {\n",
       "        vertical-align: top;\n",
       "    }\n",
       "\n",
       "    .dataframe thead th {\n",
       "        text-align: right;\n",
       "    }\n",
       "</style>\n",
       "<table border=\"1\" class=\"dataframe\">\n",
       "  <thead>\n",
       "    <tr style=\"text-align: right;\">\n",
       "      <th></th>\n",
       "      <th>visitorId</th>\n",
       "      <th>itemId</th>\n",
       "      <th>session_duration</th>\n",
       "    </tr>\n",
       "  </thead>\n",
       "  <tbody>\n",
       "    <tr>\n",
       "      <th>0</th>\n",
       "      <td>6261323644020670529-2</td>\n",
       "      <td>GGOEGAAX0031</td>\n",
       "      <td>2050</td>\n",
       "    </tr>\n",
       "    <tr>\n",
       "      <th>1</th>\n",
       "      <td>6633864305737833732-3</td>\n",
       "      <td>GGOEGAAX0031</td>\n",
       "      <td>2445</td>\n",
       "    </tr>\n",
       "    <tr>\n",
       "      <th>2</th>\n",
       "      <td>5645201504155081337-1</td>\n",
       "      <td>GGOEGAAX0031</td>\n",
       "      <td>9699</td>\n",
       "    </tr>\n",
       "    <tr>\n",
       "      <th>3</th>\n",
       "      <td>6501703224773598110-1</td>\n",
       "      <td>GGOEGAAX0031</td>\n",
       "      <td>88893</td>\n",
       "    </tr>\n",
       "    <tr>\n",
       "      <th>4</th>\n",
       "      <td>5889053612258676747-1</td>\n",
       "      <td>GGOEGAAX0031</td>\n",
       "      <td>15051</td>\n",
       "    </tr>\n",
       "  </tbody>\n",
       "</table>\n",
       "</div>"
      ],
      "text/plain": [
       "               visitorId        itemId  session_duration\n",
       "0  6261323644020670529-2  GGOEGAAX0031              2050\n",
       "1  6633864305737833732-3  GGOEGAAX0031              2445\n",
       "2  5645201504155081337-1  GGOEGAAX0031              9699\n",
       "3  6501703224773598110-1  GGOEGAAX0031             88893\n",
       "4  5889053612258676747-1  GGOEGAAX0031             15051"
      ]
     },
     "execution_count": 193,
     "metadata": {},
     "output_type": "execute_result"
    }
   ],
   "source": [
    "processed_data.head()"
   ]
  },
  {
   "cell_type": "code",
   "execution_count": 194,
   "metadata": {},
   "outputs": [
    {
     "data": {
      "text/html": [
       "<div>\n",
       "<style scoped>\n",
       "    .dataframe tbody tr th:only-of-type {\n",
       "        vertical-align: middle;\n",
       "    }\n",
       "\n",
       "    .dataframe tbody tr th {\n",
       "        vertical-align: top;\n",
       "    }\n",
       "\n",
       "    .dataframe thead th {\n",
       "        text-align: right;\n",
       "    }\n",
       "</style>\n",
       "<table border=\"1\" class=\"dataframe\">\n",
       "  <thead>\n",
       "    <tr style=\"text-align: right;\">\n",
       "      <th></th>\n",
       "      <th>visitorId</th>\n",
       "      <th>itemId</th>\n",
       "      <th>session_duration</th>\n",
       "    </tr>\n",
       "  </thead>\n",
       "  <tbody>\n",
       "    <tr>\n",
       "      <th>count</th>\n",
       "      <td>137514</td>\n",
       "      <td>137514</td>\n",
       "      <td>137514</td>\n",
       "    </tr>\n",
       "    <tr>\n",
       "      <th>size</th>\n",
       "      <td>137514</td>\n",
       "      <td>137514</td>\n",
       "      <td>137514</td>\n",
       "    </tr>\n",
       "    <tr>\n",
       "      <th>nunique</th>\n",
       "      <td>58531</td>\n",
       "      <td>374</td>\n",
       "      <td>38103</td>\n",
       "    </tr>\n",
       "  </tbody>\n",
       "</table>\n",
       "</div>"
      ],
      "text/plain": [
       "         visitorId  itemId  session_duration\n",
       "count       137514  137514            137514\n",
       "size        137514  137514            137514\n",
       "nunique      58531     374             38103"
      ]
     },
     "execution_count": 194,
     "metadata": {},
     "output_type": "execute_result"
    }
   ],
   "source": [
    "processed_data.agg(['count', 'size', 'nunique'])"
   ]
  },
  {
   "cell_type": "code",
   "execution_count": 245,
   "metadata": {},
   "outputs": [
    {
     "ename": "AttributeError",
     "evalue": "'int' object has no attribute 'count'",
     "output_type": "error",
     "traceback": [
      "\u001b[1;31m---------------------------------------------------------------------------\u001b[0m",
      "\u001b[1;31mAttributeError\u001b[0m                            Traceback (most recent call last)",
      "\u001b[1;32m<ipython-input-245-f9a38902af4f>\u001b[0m in \u001b[0;36m<module>\u001b[1;34m\u001b[0m\n\u001b[1;32m----> 1\u001b[1;33m \u001b[1;33m(\u001b[0m\u001b[0mprocessed_data\u001b[0m\u001b[1;33m[\u001b[0m\u001b[1;34m'itemId'\u001b[0m\u001b[1;33m]\u001b[0m\u001b[1;33m.\u001b[0m\u001b[0mnunique\u001b[0m\u001b[1;33m(\u001b[0m\u001b[1;33m)\u001b[0m\u001b[1;33m)\u001b[0m\u001b[1;33m.\u001b[0m\u001b[0mcount\u001b[0m\u001b[1;33m(\u001b[0m\u001b[1;33m)\u001b[0m\u001b[1;33m\u001b[0m\u001b[0m\n\u001b[0m",
      "\u001b[1;31mAttributeError\u001b[0m: 'int' object has no attribute 'count'"
     ]
    }
   ],
   "source": [
    "(processed_data['itemId'].nunique()).count()"
   ]
  },
  {
   "cell_type": "code",
   "execution_count": 235,
   "metadata": {},
   "outputs": [
    {
     "data": {
      "text/html": [
       "<div>\n",
       "<style scoped>\n",
       "    .dataframe tbody tr th:only-of-type {\n",
       "        vertical-align: middle;\n",
       "    }\n",
       "\n",
       "    .dataframe tbody tr th {\n",
       "        vertical-align: top;\n",
       "    }\n",
       "\n",
       "    .dataframe thead th {\n",
       "        text-align: right;\n",
       "    }\n",
       "</style>\n",
       "<table border=\"1\" class=\"dataframe\">\n",
       "  <thead>\n",
       "    <tr style=\"text-align: right;\">\n",
       "      <th></th>\n",
       "      <th>session_duration</th>\n",
       "    </tr>\n",
       "    <tr>\n",
       "      <th>itemId</th>\n",
       "      <th></th>\n",
       "    </tr>\n",
       "  </thead>\n",
       "  <tbody>\n",
       "    <tr>\n",
       "      <th>GGOEGAAX0104</th>\n",
       "      <td>3494</td>\n",
       "    </tr>\n",
       "    <tr>\n",
       "      <th>GGOEGBRJ037299</th>\n",
       "      <td>3427</td>\n",
       "    </tr>\n",
       "    <tr>\n",
       "      <th>GGOEGBRA037499</th>\n",
       "      <td>3056</td>\n",
       "    </tr>\n",
       "    <tr>\n",
       "      <th>GGOEGAAX0358</th>\n",
       "      <td>2740</td>\n",
       "    </tr>\n",
       "    <tr>\n",
       "      <th>GGOEGFKA022299</th>\n",
       "      <td>2616</td>\n",
       "    </tr>\n",
       "    <tr>\n",
       "      <th>GGOEGBRJ037399</th>\n",
       "      <td>2531</td>\n",
       "    </tr>\n",
       "    <tr>\n",
       "      <th>GGOEGFKQ020399</th>\n",
       "      <td>2395</td>\n",
       "    </tr>\n",
       "    <tr>\n",
       "      <th>GGOEGAAX0105</th>\n",
       "      <td>2176</td>\n",
       "    </tr>\n",
       "    <tr>\n",
       "      <th>GGOEGAAX0037</th>\n",
       "      <td>2109</td>\n",
       "    </tr>\n",
       "    <tr>\n",
       "      <th>GGOEGDHQ015399</th>\n",
       "      <td>1828</td>\n",
       "    </tr>\n",
       "  </tbody>\n",
       "</table>\n",
       "</div>"
      ],
      "text/plain": [
       "                session_duration\n",
       "itemId                          \n",
       "GGOEGAAX0104                3494\n",
       "GGOEGBRJ037299              3427\n",
       "GGOEGBRA037499              3056\n",
       "GGOEGAAX0358                2740\n",
       "GGOEGFKA022299              2616\n",
       "GGOEGBRJ037399              2531\n",
       "GGOEGFKQ020399              2395\n",
       "GGOEGAAX0105                2176\n",
       "GGOEGAAX0037                2109\n",
       "GGOEGDHQ015399              1828"
      ]
     },
     "execution_count": 235,
     "metadata": {},
     "output_type": "execute_result"
    }
   ],
   "source": [
    "most_popular = popular_products.sort_values('session_duration', ascending=False)\n",
    "most_popular.head(10)"
   ]
  },
  {
   "cell_type": "markdown",
   "metadata": {},
   "source": [
    "## Train the matrix factorization model"
   ]
  },
  {
   "cell_type": "code",
   "execution_count": 230,
   "metadata": {},
   "outputs": [
    {
     "name": "stdout",
     "output_type": "stream",
     "text": [
      "Executing query with job ID: e97f143e-0908-414c-a1fd-77382a55abbb\n",
      "Query executing: 0.87s"
     ]
    },
    {
     "name": "stderr",
     "output_type": "stream",
     "text": [
      "\n",
      "ERROR:\n",
      " 400 Training Matrix Factorization models is not available for on-demand usage. To train, please set up a reservation (flex or regular) based on instructions in BigQuery public docs.\n",
      "\n",
      "(job ID: e97f143e-0908-414c-a1fd-77382a55abbb)\n",
      "\n",
      "              -----Query Job SQL Follows-----              \n",
      "\n",
      "    |    .    |    .    |    .    |    .    |    .    |\n",
      "   1:CREATE OR REPLACE MODEL merch_store.retail_recommender\n",
      "   2:OPTIONS(model_type='matrix_factorization', \n",
      "   3:        user_col='visitorId', \n",
      "   4:        item_col='itemId',\n",
      "   5:        rating_col='session_duration',\n",
      "   6:        feedback_type='implicit'\n",
      "   7:        )\n",
      "   8:AS\n",
      "   9:SELECT * FROM merch_store.aggregate_web_stats\n",
      "    |    .    |    .    |    .    |    .    |    .    |\n"
     ]
    }
   ],
   "source": [
    "%%bigquery\n",
    "\n",
    "CREATE OR REPLACE MODEL merch_store.retail_recommender\n",
    "OPTIONS(model_type='matrix_factorization', \n",
    "        user_col='visitorId', \n",
    "        item_col='itemId',\n",
    "        rating_col='session_duration',\n",
    "        feedback_type='implicit'\n",
    "        )\n",
    "AS\n",
    "SELECT * FROM merch_store.aggregate_web_stats"
   ]
  },
  {
   "cell_type": "code",
   "execution_count": null,
   "metadata": {},
   "outputs": [],
   "source": []
  }
 ],
 "metadata": {
  "kernelspec": {
   "display_name": ".env",
   "language": "python",
   "name": ".env"
  },
  "language_info": {
   "codemirror_mode": {
    "name": "ipython",
    "version": 3
   },
   "file_extension": ".py",
   "mimetype": "text/x-python",
   "name": "python",
   "nbconvert_exporter": "python",
   "pygments_lexer": "ipython3",
   "version": "3.6.5"
  }
 },
 "nbformat": 4,
 "nbformat_minor": 2
}
